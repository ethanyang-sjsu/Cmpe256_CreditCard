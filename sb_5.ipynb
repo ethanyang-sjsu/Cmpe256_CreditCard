{
 "cells": [
  {
   "cell_type": "markdown",
   "id": "b3aaa228-a6d9-4edc-bb34-3a76690fc177",
   "metadata": {},
   "source": [
    "Fifth sandbox. Returning to the Decision Tree bootstrap."
   ]
  },
  {
   "cell_type": "markdown",
   "id": "bf49a515-8224-4c19-94c6-a51baf2639eb",
   "metadata": {},
   "source": [
    "# Imports and setup"
   ]
  },
  {
   "cell_type": "code",
   "execution_count": 2,
   "id": "37799f8e-18db-407b-9527-ec21213b34a7",
   "metadata": {},
   "outputs": [],
   "source": [
    "import pandas as pd\n",
    "import numpy as np\n",
    "from time import time\n",
    "from sklearn.model_selection import train_test_split\n",
    "from sklearn.tree import DecisionTreeClassifier\n",
    "from sklearn.metrics import precision_score, recall_score, f1_score\n",
    "from tqdm import tqdm\n",
    "import matplotlib.pyplot as plt"
   ]
  },
  {
   "cell_type": "code",
   "execution_count": 3,
   "id": "83f9af9d-2e08-406a-99af-8254e047ee7f",
   "metadata": {},
   "outputs": [
    {
     "name": "stdout",
     "output_type": "stream",
     "text": [
      "Index(['Time', 'V1', 'V2', 'V3', 'V4', 'V5', 'V6', 'V7', 'V8', 'V9', 'V10',\n",
      "       'V11', 'V12', 'V13', 'V14', 'V15', 'V16', 'V17', 'V18', 'V19', 'V20',\n",
      "       'V21', 'V22', 'V23', 'V24', 'V25', 'V26', 'V27', 'V28', 'Amount',\n",
      "       'Class'],\n",
      "      dtype='object')\n",
      "Class\n",
      "0    284315\n",
      "1       492\n",
      "Name: count, dtype: int64\n"
     ]
    }
   ],
   "source": [
    "# https://www.kaggle.com/datasets/mlg-ulb/creditcardfraud\n",
    "df = pd.read_csv('creditcard.csv')\n",
    "print(df.columns)\n",
    "print(df['Class'].value_counts())"
   ]
  },
  {
   "cell_type": "code",
   "execution_count": 4,
   "id": "b547ed25-82d7-4fa1-83f6-983ef14f76c9",
   "metadata": {},
   "outputs": [],
   "source": [
    "X_all = df[df.columns[:-1]].values\n",
    "y_all = df['Class'].values"
   ]
  },
  {
   "cell_type": "markdown",
   "id": "41ba2659-b8c6-4e23-aab2-f2c7f5b1fee6",
   "metadata": {},
   "source": [
    "# Helper functions"
   ]
  },
  {
   "cell_type": "code",
   "execution_count": 8,
   "id": "20e66615-d2ad-4dc9-abd5-a6ea4147d787",
   "metadata": {},
   "outputs": [],
   "source": [
    "def fit_with_size(X_sample, y_sample, seed, train_size, verbose=False):\n",
    "    X_train, X_test, y_train, y_test = train_test_split(\n",
    "        X_sample, y_sample,\n",
    "        train_size=train_size,\n",
    "        stratify=y_sample,\n",
    "        random_state=seed  # make less random\n",
    "    )\n",
    "\n",
    "    if verbose:\n",
    "        print(\"Fitting model with\", train_size, \"of the data...\", end=' ')\n",
    "        start_time = time()\n",
    "    np.random.seed(seed)  # make less random\n",
    "    model = DecisionTreeClassifier().fit(X_train, y_train)\n",
    "    if verbose:\n",
    "        end_time = time()\n",
    "        print(\"done in\", round(end_time-start_time), \"seconds.\")\n",
    "\n",
    "    return model, X_test, y_test"
   ]
  },
  {
   "cell_type": "code",
   "execution_count": 10,
   "id": "d328bc22-68d8-4ba5-96fe-7b015066a362",
   "metadata": {},
   "outputs": [],
   "source": [
    "def get_metrics(model, X_test, y_test):\n",
    "    y_pred = model.predict(X_test)\n",
    "\n",
    "    precision = precision_score(y_test, y_pred)\n",
    "    recall = recall_score(y_test, y_pred)\n",
    "    f1 = f1_score(y_test, y_pred)\n",
    "    return precision, recall, f1"
   ]
  },
  {
   "cell_type": "code",
   "execution_count": 12,
   "id": "3575dcf6-162d-41c8-a17a-0f8ab45668f4",
   "metadata": {},
   "outputs": [],
   "source": [
    "def plot_metrics(df):\n",
    "    plt.subplot(1, 3, 1)\n",
    "    df[\"Precision\"].plot.barh()\n",
    "    plt.title(\"Precision\")\n",
    "    plt.subplot(1, 3, 2)\n",
    "    df[\"Recall\"].plot.barh()\n",
    "    plt.title(\"Recall\")\n",
    "    plt.subplot(1, 3, 3)\n",
    "    df[\"F1\"].plot.barh()\n",
    "    plt.title(\"F1\")"
   ]
  },
  {
   "cell_type": "code",
   "execution_count": 21,
   "id": "72c3b0a4-bb80-403e-84a1-83c5796faa51",
   "metadata": {},
   "outputs": [],
   "source": [
    "# https://www.kdnuggets.com/2023/03/bootstrapping.html\n",
    "def bootstrap(X, y, n_samples, train_size):\n",
    "    results = []\n",
    "    for i in tqdm(range(n_samples)):\n",
    "        run = {}\n",
    "        np.random.seed(i)  # make less random\n",
    "        indices = np.random.choice(X.shape[0], size=X.shape[0], replace=True)\n",
    "        X_sample = X[indices, :]\n",
    "        y_sample = y[indices]\n",
    "\n",
    "        model, X_test, y_test = fit_with_size(X_sample, y_sample, i, train_size)\n",
    "        precision, recall, f1 = get_metrics(model, X_test, y_test)\n",
    "\n",
    "        run[\"Seed\"] = i\n",
    "        run[\"Precision\"] = precision\n",
    "        run[\"Recall\"] = recall\n",
    "        run[\"F1\"] = f1\n",
    "        run[\"Indices\"] = indices\n",
    "        run[\"Model\"] = model\n",
    "        results.append(run)\n",
    "    return pd.DataFrame(results)"
   ]
  },
  {
   "cell_type": "code",
   "execution_count": 17,
   "id": "7c0c44dd-8f48-4c7c-ac55-fdba64b4c96c",
   "metadata": {},
   "outputs": [],
   "source": [
    "def weighted_predict(X, y, df, weight_by=None):\n",
    "    n = y.shape\n",
    "    y_weighted = np.zeros(n)\n",
    "    all_predictions = []\n",
    "    all_metrics = []\n",
    "    \n",
    "    models = df['Model'].values\n",
    "    if weight_by is None:\n",
    "        weights = [1 for _ in range(n)]\n",
    "    else:\n",
    "        weights = df[weight_by].values\n",
    "\n",
    "    print(\"Making predictions...\")\n",
    "    for model, weight in tqdm(zip(models, weights)):\n",
    "        y_raw = model.predict(X)\n",
    "        all_predictions.append(y_raw)  # save this off for later comparison\n",
    "        y_pred = y_raw * 2 - 1  # transform to range [-1, 1]\n",
    "        y_pred = y_pred * weight\n",
    "        y_weighted += y_pred\n",
    "    # predictions are now in a range such that:\n",
    "    # y >= 0 means a positive classification\n",
    "    # y < 0 means a negative classification\n",
    "    y_weighted = y_weighted >= 0\n",
    "    all_predictions.append(y_weighted)\n",
    "\n",
    "    print(\"Getting metrics...\")\n",
    "    for prediction in tqdm(all_predictions):\n",
    "        d = {}\n",
    "        d[\"Precision\"] = precision_score(y, prediction)\n",
    "        d[\"Recall\"] = recall_score(y, prediction)\n",
    "        d[\"F1\"] = f1_score(y, prediction)\n",
    "        all_metrics.append(d)\n",
    "\n",
    "    print(\"Done.\")\n",
    "    return pd.DataFrame(all_metrics)"
   ]
  },
  {
   "cell_type": "markdown",
   "id": "44febf5a-cb69-4489-8ac6-594ab5fe39dd",
   "metadata": {},
   "source": [
    "# Split before training, then test upon holdout set"
   ]
  },
  {
   "cell_type": "code",
   "execution_count": 44,
   "id": "48938900-9be0-42f0-a437-8ebee37bf73e",
   "metadata": {},
   "outputs": [],
   "source": [
    "# Use 80% of the data for training\n",
    "# The remaining 20% will be used for final metrics\n",
    "X_bootstrap, X_holdout, y_bootstrap, y_holdout = train_test_split(\n",
    "    X_all, y_all,\n",
    "    train_size=0.8,\n",
    "    stratify=y_all,\n",
    "    random_state=10\n",
    ")"
   ]
  },
  {
   "cell_type": "code",
   "execution_count": 46,
   "id": "766fd636-2a71-4b35-9755-11afefc39a69",
   "metadata": {},
   "outputs": [
    {
     "name": "stderr",
     "output_type": "stream",
     "text": [
      "100%|██████████████████████████████████████████████████████████████████████████████████| 10/10 [01:10<00:00,  7.07s/it]\n"
     ]
    }
   ],
   "source": [
    "results = bootstrap(X_bootstrap, y_bootstrap, 10, 0.6)"
   ]
  },
  {
   "cell_type": "code",
   "execution_count": 47,
   "id": "81afd0ff-435a-41b1-aae4-7bfa4d480f8a",
   "metadata": {},
   "outputs": [
    {
     "name": "stdout",
     "output_type": "stream",
     "text": [
      "Making predictions...\n"
     ]
    },
    {
     "name": "stderr",
     "output_type": "stream",
     "text": [
      "10it [00:00, 168.51it/s]\n"
     ]
    },
    {
     "name": "stdout",
     "output_type": "stream",
     "text": [
      "Getting metrics...\n"
     ]
    },
    {
     "name": "stderr",
     "output_type": "stream",
     "text": [
      "100%|██████████████████████████████████████████████████████████████████████████████████| 11/11 [00:00<00:00, 46.02it/s]\n"
     ]
    },
    {
     "name": "stdout",
     "output_type": "stream",
     "text": [
      "Done.\n"
     ]
    },
    {
     "data": {
      "image/png": "[encoded data removed]",
      "text/plain": [
       "<Figure size 640x480 with 3 Axes>"
      ]
     },
     "metadata": {},
     "output_type": "display_data"
    }
   ],
   "source": [
    "weighted = weighted_predict(X_holdout, y_holdout, results, 'Precision')\n",
    "plot_metrics(weighted)"
   ]
  },
  {
   "cell_type": "code",
   "execution_count": 48,
   "id": "497b4784-a26c-476a-a11f-db8efdfd90c4",
   "metadata": {},
   "outputs": [
    {
     "name": "stdout",
     "output_type": "stream",
     "text": [
      "Making predictions...\n"
     ]
    },
    {
     "name": "stderr",
     "output_type": "stream",
     "text": [
      "10it [00:00, 173.77it/s]\n"
     ]
    },
    {
     "name": "stdout",
     "output_type": "stream",
     "text": [
      "Getting metrics...\n"
     ]
    },
    {
     "name": "stderr",
     "output_type": "stream",
     "text": [
      "100%|██████████████████████████████████████████████████████████████████████████████████| 11/11 [00:00<00:00, 46.19it/s]\n"
     ]
    },
    {
     "name": "stdout",
     "output_type": "stream",
     "text": [
      "Done.\n"
     ]
    },
    {
     "data": {
      "image/png": "[encoded data removed]",
      "text/plain": [
       "<Figure size 640x480 with 3 Axes>"
      ]
     },
     "metadata": {},
     "output_type": "display_data"
    }
   ],
   "source": [
    "weighted = weighted_predict(X_holdout, y_holdout, results, 'Recall')\n",
    "plot_metrics(weighted)"
   ]
  },
  {
   "cell_type": "code",
   "execution_count": 49,
   "id": "29775d4f-718e-404c-9333-6ec758889e15",
   "metadata": {},
   "outputs": [
    {
     "name": "stdout",
     "output_type": "stream",
     "text": [
      "Making predictions...\n"
     ]
    },
    {
     "name": "stderr",
     "output_type": "stream",
     "text": [
      "10it [00:00, 167.72it/s]\n"
     ]
    },
    {
     "name": "stdout",
     "output_type": "stream",
     "text": [
      "Getting metrics...\n"
     ]
    },
    {
     "name": "stderr",
     "output_type": "stream",
     "text": [
      "100%|██████████████████████████████████████████████████████████████████████████████████| 11/11 [00:00<00:00, 46.76it/s]\n"
     ]
    },
    {
     "name": "stdout",
     "output_type": "stream",
     "text": [
      "Done.\n"
     ]
    },
    {
     "data": {
      "image/png": "[encoded data removed]",
      "text/plain": [
       "<Figure size 640x480 with 3 Axes>"
      ]
     },
     "metadata": {},
     "output_type": "display_data"
    }
   ],
   "source": [
    "weighted = weighted_predict(X_holdout, y_holdout, results, 'F1')\n",
    "plot_metrics(weighted)"
   ]
  },
  {
   "cell_type": "code",
   "execution_count": null,
   "id": "cfe024bf-a82f-4ace-92ea-e75f07430618",
   "metadata": {},
   "outputs": [],
   "source": []
  }
 ],
 "metadata": {
  "kernelspec": {
   "display_name": "Python 3 (ipykernel)",
   "language": "python",
   "name": "python3"
  },
  "language_info": {
   "codemirror_mode": {
    "name": "ipython",
    "version": 3
   },
   "file_extension": ".py",
   "mimetype": "text/x-python",
   "name": "python",
   "nbconvert_exporter": "python",
   "pygments_lexer": "ipython3",
   "version": "3.11.5"
  }
 },
 "nbformat": 4,
 "nbformat_minor": 5
}
