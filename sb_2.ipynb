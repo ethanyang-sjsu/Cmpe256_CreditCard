{
 "cells": [
  {
   "cell_type": "code",
   "execution_count": 1,
   "id": "37799f8e-18db-407b-9527-ec21213b34a7",
   "metadata": {},
   "outputs": [],
   "source": [
    "import pandas as pd\n",
    "import numpy as np\n",
    "from sklearn.model_selection import train_test_split\n",
    "from sklearn.neural_network import MLPClassifier\n",
    "from sklearn.metrics import precision_score, recall_score, f1_score\n",
    "from tqdm import tqdm"
   ]
  },
  {
   "cell_type": "code",
   "execution_count": 2,
   "id": "83f9af9d-2e08-406a-99af-8254e047ee7f",
   "metadata": {},
   "outputs": [
    {
     "name": "stdout",
     "output_type": "stream",
     "text": [
      "Index(['Time', 'V1', 'V2', 'V3', 'V4', 'V5', 'V6', 'V7', 'V8', 'V9', 'V10',\n",
      "       'V11', 'V12', 'V13', 'V14', 'V15', 'V16', 'V17', 'V18', 'V19', 'V20',\n",
      "       'V21', 'V22', 'V23', 'V24', 'V25', 'V26', 'V27', 'V28', 'Amount',\n",
      "       'Class'],\n",
      "      dtype='object')\n"
     ]
    }
   ],
   "source": [
    "# https://www.kaggle.com/datasets/mlg-ulb/creditcardfraud\n",
    "df = pd.read_csv('creditcard.csv')\n",
    "print(df.columns)"
   ]
  },
  {
   "cell_type": "code",
   "execution_count": 3,
   "id": "b547ed25-82d7-4fa1-83f6-983ef14f76c9",
   "metadata": {},
   "outputs": [],
   "source": [
    "all_x = df[df.columns[:-1]]\n",
    "all_y = df['Class']"
   ]
  },
  {
   "cell_type": "code",
   "execution_count": 4,
   "id": "72c3b0a4-bb80-403e-84a1-83c5796faa51",
   "metadata": {},
   "outputs": [],
   "source": [
    "# https://www.kdnuggets.com/2023/03/bootstrapping.html\n",
    "def bootstrap(X_df, y_df, n_samples, train_size):\n",
    "    seed = []\n",
    "    pr = []\n",
    "    re = []\n",
    "    f1 = []\n",
    "    indices = []\n",
    "\n",
    "    for i in tqdm(range(n_samples)):\n",
    "        np.random.seed(i)\n",
    "        index = np.random.choice(X_df.shape[0], size=X_df.shape[0], replace=True)\n",
    "        indices.append(index)\n",
    "        X_sample = X_df.values[index, :]\n",
    "        y_sample = y_df.values[index]\n",
    "\n",
    "        # Train on this sample using just a little bit of the data\n",
    "        X_train, X_test, y_train, y_test = train_test_split(\n",
    "            X_sample, y_sample,\n",
    "            train_size=train_size,\n",
    "            stratify=y_sample,\n",
    "            random_state=i\n",
    "        )\n",
    "\n",
    "        model = MLPClassifier().fit(X_train, y_train)\n",
    "        y_pred = model.predict(X_test)\n",
    "\n",
    "        seed.append(i)\n",
    "        pr.append(precision_score(y_test, y_pred))\n",
    "        re.append(recall_score(y_test, y_pred))\n",
    "        f1.append(f1_score(y_test, y_pred))\n",
    "\n",
    "    return pd.DataFrame({\n",
    "        \"Seed\": seed,\n",
    "        \"Precision\": pr,\n",
    "        \"Recall\": re,\n",
    "        \"F1\": f1,\n",
    "        \"Indices\": indices\n",
    "    })"
   ]
  },
  {
   "cell_type": "code",
   "execution_count": 5,
   "id": "58e3734d-edd3-43e5-9944-e91849108a0a",
   "metadata": {},
   "outputs": [
    {
     "name": "stderr",
     "output_type": "stream",
     "text": [
      "100%|██████████████████████████████████████████████████████████████████████████████████| 10/10 [00:19<00:00,  1.91s/it]\n"
     ]
    }
   ],
   "source": [
    "pred_df = bootstrap(all_x, all_y, 10, 0.1)"
   ]
  },
  {
   "cell_type": "code",
   "execution_count": 6,
   "id": "5ef2d658-8b11-4c47-bada-470a643372c7",
   "metadata": {},
   "outputs": [
    {
     "data": {
      "text/html": [
       "<div>\n",
       "<style scoped>\n",
       "    .dataframe tbody tr th:only-of-type {\n",
       "        vertical-align: middle;\n",
       "    }\n",
       "\n",
       "    .dataframe tbody tr th {\n",
       "        vertical-align: top;\n",
       "    }\n",
       "\n",
       "    .dataframe thead th {\n",
       "        text-align: right;\n",
       "    }\n",
       "</style>\n",
       "<table border=\"1\" class=\"dataframe\">\n",
       "  <thead>\n",
       "    <tr style=\"text-align: right;\">\n",
       "      <th></th>\n",
       "      <th>Seed</th>\n",
       "      <th>Precision</th>\n",
       "      <th>Recall</th>\n",
       "      <th>F1</th>\n",
       "      <th>Indices</th>\n",
       "    </tr>\n",
       "  </thead>\n",
       "  <tbody>\n",
       "    <tr>\n",
       "      <th>9</th>\n",
       "      <td>9</td>\n",
       "      <td>0.414219</td>\n",
       "      <td>0.642686</td>\n",
       "      <td>0.503759</td>\n",
       "      <td>[187006, 196534, 173819, 267158, 91261, 70209,...</td>\n",
       "    </tr>\n",
       "    <tr>\n",
       "      <th>3</th>\n",
       "      <td>3</td>\n",
       "      <td>0.296552</td>\n",
       "      <td>0.668889</td>\n",
       "      <td>0.410922</td>\n",
       "      <td>[71530, 198296, 77049, 48056, 11261, 215699, 2...</td>\n",
       "    </tr>\n",
       "    <tr>\n",
       "      <th>8</th>\n",
       "      <td>8</td>\n",
       "      <td>0.441489</td>\n",
       "      <td>0.198565</td>\n",
       "      <td>0.273927</td>\n",
       "      <td>[70083, 25940, 149489, 256361, 231557, 236371,...</td>\n",
       "    </tr>\n",
       "    <tr>\n",
       "      <th>5</th>\n",
       "      <td>5</td>\n",
       "      <td>0.402778</td>\n",
       "      <td>0.130631</td>\n",
       "      <td>0.197279</td>\n",
       "      <td>[18638, 20463, 124605, 232422, 136592, 33800, ...</td>\n",
       "    </tr>\n",
       "    <tr>\n",
       "      <th>4</th>\n",
       "      <td>4</td>\n",
       "      <td>0.178571</td>\n",
       "      <td>0.034404</td>\n",
       "      <td>0.057692</td>\n",
       "      <td>[120705, 129384, 115144, 94601, 107578, 79981,...</td>\n",
       "    </tr>\n",
       "  </tbody>\n",
       "</table>\n",
       "</div>"
      ],
      "text/plain": [
       "   Seed  Precision    Recall        F1  \\\n",
       "9     9   0.414219  0.642686  0.503759   \n",
       "3     3   0.296552  0.668889  0.410922   \n",
       "8     8   0.441489  0.198565  0.273927   \n",
       "5     5   0.402778  0.130631  0.197279   \n",
       "4     4   0.178571  0.034404  0.057692   \n",
       "\n",
       "                                             Indices  \n",
       "9  [187006, 196534, 173819, 267158, 91261, 70209,...  \n",
       "3  [71530, 198296, 77049, 48056, 11261, 215699, 2...  \n",
       "8  [70083, 25940, 149489, 256361, 231557, 236371,...  \n",
       "5  [18638, 20463, 124605, 232422, 136592, 33800, ...  \n",
       "4  [120705, 129384, 115144, 94601, 107578, 79981,...  "
      ]
     },
     "execution_count": 6,
     "metadata": {},
     "output_type": "execute_result"
    }
   ],
   "source": [
    "pred_df.sort_values(by=\"F1\", ascending=False).head()"
   ]
  },
  {
   "cell_type": "code",
   "execution_count": 7,
   "id": "8f010228-3f2a-4b04-880e-ff9e139adb27",
   "metadata": {},
   "outputs": [],
   "source": [
    "# Get the indices of the data that yielded the best results from the sampling\n",
    "best_idx = pred_df.sort_values(by=\"F1\", ascending=False).index[0]\n",
    "bootstrapped_idx = pred_df.iloc[best_idx][\"Indices\"]\n",
    "bootstrapped_seed = pred_df.iloc[best_idx][\"Seed\"]"
   ]
  },
  {
   "cell_type": "code",
   "execution_count": 8,
   "id": "eee75e8d-5881-4749-b5d1-9c376bf33999",
   "metadata": {},
   "outputs": [
    {
     "name": "stdout",
     "output_type": "stream",
     "text": [
      "Fitting model... done.\n"
     ]
    }
   ],
   "source": [
    "X_sample = all_x.values[bootstrapped_idx, :]\n",
    "y_sample = all_y.values[bootstrapped_idx]\n",
    "\n",
    "# Re-train a model, but with the (hopefully) optimized data\n",
    "np.random.seed(bootstrapped_seed)\n",
    "X_train, X_test, y_train, y_test = train_test_split(\n",
    "    X_sample, y_sample,\n",
    "    train_size=0.4,\n",
    "    stratify=y_sample,\n",
    "    random_state=bootstrapped_seed\n",
    ")\n",
    "\n",
    "print(\"Fitting model...\", end=' ')\n",
    "model = MLPClassifier().fit(X_train, y_train)\n",
    "print(\"done.\")"
   ]
  },
  {
   "cell_type": "code",
   "execution_count": 19,
   "id": "01d2ac68-e717-4b7c-aabd-d71197a31d2d",
   "metadata": {},
   "outputs": [
    {
     "name": "stdout",
     "output_type": "stream",
     "text": [
      "Precision: 0.5863247863247864\n",
      "Recall   : 0.6971544715447154\n",
      "F1       : 0.6369545032497679\n"
     ]
    }
   ],
   "source": [
    "# Now test back on the original data to see metrics\n",
    "X_test = all_x.values\n",
    "y_test = all_y.values\n",
    "\n",
    "y_pred = model.predict(X_test)\n",
    "\n",
    "print(\"Precision:\", precision_score(y_test, y_pred))\n",
    "print(\"Recall   :\", recall_score(y_test, y_pred))\n",
    "print(\"F1       :\", f1_score(y_test, y_pred))"
   ]
  }
 ],
 "metadata": {
  "kernelspec": {
   "display_name": "Python 3 (ipykernel)",
   "language": "python",
   "name": "python3"
  },
  "language_info": {
   "codemirror_mode": {
    "name": "ipython",
    "version": 3
   },
   "file_extension": ".py",
   "mimetype": "text/x-python",
   "name": "python",
   "nbconvert_exporter": "python",
   "pygments_lexer": "ipython3",
   "version": "3.11.5"
  }
 },
 "nbformat": 4,
 "nbformat_minor": 5
}
