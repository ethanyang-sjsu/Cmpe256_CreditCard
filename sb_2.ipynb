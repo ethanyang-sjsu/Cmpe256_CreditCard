{
 "cells": [
  {
   "cell_type": "markdown",
   "id": "8ee8b3fe-6db3-42d4-adf1-dbb883d30fb5",
   "metadata": {},
   "source": [
    "Second sandbox. This one uses different dataset from the first. Columns are anonymous, and have already been through PCA. Tests using `MLPClassifier` were inconclusive.\n",
    "- with certain seeds, `train_test_split` gives data that confuses the classifier\n",
    "- classifier also suffers from some kind of overfitting issues"
   ]
  },
  {
   "cell_type": "markdown",
   "id": "0ff15082-d187-418a-9ab6-abeb6b043ce4",
   "metadata": {},
   "source": [
    "# Imports and setup"
   ]
  },
  {
   "cell_type": "code",
   "execution_count": 161,
   "id": "37799f8e-18db-407b-9527-ec21213b34a7",
   "metadata": {},
   "outputs": [],
   "source": [
    "import pandas as pd\n",
    "import numpy as np\n",
    "from time import time\n",
    "from sklearn.model_selection import train_test_split\n",
    "from sklearn.neural_network import MLPClassifier\n",
    "from sklearn.metrics import precision_score, recall_score, f1_score\n",
    "from tqdm import tqdm\n",
    "import matplotlib.pyplot as plt"
   ]
  },
  {
   "cell_type": "code",
   "execution_count": 163,
   "id": "83f9af9d-2e08-406a-99af-8254e047ee7f",
   "metadata": {},
   "outputs": [
    {
     "name": "stdout",
     "output_type": "stream",
     "text": [
      "Index(['Time', 'V1', 'V2', 'V3', 'V4', 'V5', 'V6', 'V7', 'V8', 'V9', 'V10',\n",
      "       'V11', 'V12', 'V13', 'V14', 'V15', 'V16', 'V17', 'V18', 'V19', 'V20',\n",
      "       'V21', 'V22', 'V23', 'V24', 'V25', 'V26', 'V27', 'V28', 'Amount',\n",
      "       'Class'],\n",
      "      dtype='object')\n",
      "Class\n",
      "0    284315\n",
      "1       492\n",
      "Name: count, dtype: int64\n"
     ]
    }
   ],
   "source": [
    "# https://www.kaggle.com/datasets/mlg-ulb/creditcardfraud\n",
    "df = pd.read_csv('creditcard.csv')\n",
    "print(df.columns)\n",
    "print(df['Class'].value_counts())"
   ]
  },
  {
   "cell_type": "code",
   "execution_count": 164,
   "id": "b547ed25-82d7-4fa1-83f6-983ef14f76c9",
   "metadata": {},
   "outputs": [],
   "source": [
    "X_all = df[df.columns[:-1]].values\n",
    "y_all = df['Class'].values"
   ]
  },
  {
   "cell_type": "markdown",
   "id": "59ef594b-b672-4e91-98cb-ad882b6cb528",
   "metadata": {},
   "source": [
    "# Helper functions"
   ]
  },
  {
   "cell_type": "code",
   "execution_count": 165,
   "id": "20e66615-d2ad-4dc9-abd5-a6ea4147d787",
   "metadata": {},
   "outputs": [],
   "source": [
    "def fit_with_size(X_sample, y_sample, seed, train_size, verbose=False):\n",
    "    X_train, X_test, y_train, y_test = train_test_split(\n",
    "        X_sample, y_sample,\n",
    "        train_size=train_size,\n",
    "        stratify=y_sample,\n",
    "        random_state=seed  # make less random\n",
    "    )\n",
    "\n",
    "    if verbose:\n",
    "        print(\"Fitting model with\", train_size, \"of the data...\", end=' ')\n",
    "        start_time = time()\n",
    "    np.random.seed(seed)  # make less random\n",
    "    model = MLPClassifier().fit(X_train, y_train)\n",
    "    if verbose:\n",
    "        end_time = time()\n",
    "        print(\"done in\", round(end_time-start_time), \"seconds.\")\n",
    "\n",
    "    return model, X_test, y_test"
   ]
  },
  {
   "cell_type": "code",
   "execution_count": 166,
   "id": "d328bc22-68d8-4ba5-96fe-7b015066a362",
   "metadata": {},
   "outputs": [],
   "source": [
    "def get_metrics(model, X_test, y_test):\n",
    "    y_pred = model.predict(X_test)\n",
    "\n",
    "    precision = precision_score(y_test, y_pred)\n",
    "    recall = recall_score(y_test, y_pred)\n",
    "    f1 = f1_score(y_test, y_pred)\n",
    "    return precision, recall, f1"
   ]
  },
  {
   "cell_type": "code",
   "execution_count": 151,
   "id": "10eab187-7824-4a24-8c3f-a0ad8de3fca5",
   "metadata": {},
   "outputs": [],
   "source": [
    "def plot_metrics(df):\n",
    "    plt.subplot(1, 3, 1)\n",
    "    df[\"Precision\"].plot.barh()\n",
    "    plt.title(\"Precision\")\n",
    "    plt.subplot(1, 3, 2)\n",
    "    df[\"Recall\"].plot.barh()\n",
    "    plt.title(\"Recall\")\n",
    "    plt.subplot(1, 3, 3)\n",
    "    df[\"F1\"].plot.barh()\n",
    "    plt.title(\"F1\")"
   ]
  },
  {
   "cell_type": "markdown",
   "id": "36363920-ab53-4b3f-ad18-0125a4dcc602",
   "metadata": {},
   "source": [
    "# Bootstrapping a Neural Net"
   ]
  },
  {
   "cell_type": "code",
   "execution_count": 181,
   "id": "72c3b0a4-bb80-403e-84a1-83c5796faa51",
   "metadata": {},
   "outputs": [],
   "source": [
    "# https://www.kdnuggets.com/2023/03/bootstrapping.html\n",
    "def bootstrap(X, y, n_samples, train_size):\n",
    "    results = []\n",
    "    for i in tqdm(range(n_samples)):\n",
    "        run = {}\n",
    "        np.random.seed(i)  # make less random\n",
    "        indices = np.random.choice(X.shape[0], size=X.shape[0], replace=True)\n",
    "        X_sample = X[indices, :]\n",
    "        y_sample = y[indices]\n",
    "\n",
    "        model, X_test, y_test = fit_with_size(X_sample, y_sample, i, train_size)\n",
    "        precision, recall, f1 = get_metrics(model, X_test, y_test)\n",
    "\n",
    "        run[\"Seed\"] = i\n",
    "        run[\"Precision\"] = precision\n",
    "        run[\"Recall\"] = recall\n",
    "        run[\"F1\"] = f1\n",
    "        run[\"Indices\"] = indices\n",
    "        run[\"Model\"] = model\n",
    "        results.append(run)\n",
    "    return pd.DataFrame(results)"
   ]
  },
  {
   "cell_type": "code",
   "execution_count": 183,
   "id": "58e3734d-edd3-43e5-9944-e91849108a0a",
   "metadata": {},
   "outputs": [
    {
     "name": "stderr",
     "output_type": "stream",
     "text": [
      "100%|██████████████████████████████████████████████████████████████████████████████████| 10/10 [03:00<00:00, 18.06s/it]\n"
     ]
    }
   ],
   "source": [
    "pred_df = bootstrap(X_all, y_all, 10, 0.2)"
   ]
  },
  {
   "cell_type": "code",
   "execution_count": 190,
   "id": "3cd5a266-e11c-4868-9fa6-90c0f3eca430",
   "metadata": {},
   "outputs": [
    {
     "data": {
      "image/png": "[encoded data removed]",
      "text/plain": [
       "<Figure size 640x480 with 3 Axes>"
      ]
     },
     "metadata": {},
     "output_type": "display_data"
    }
   ],
   "source": [
    "plot_metrics(pred_df)"
   ]
  },
  {
   "cell_type": "markdown",
   "id": "f9774ba8-cf51-4fb4-88a3-896eb5860a8a",
   "metadata": {},
   "source": [
    "# Majority voting"
   ]
  },
  {
   "cell_type": "code",
   "execution_count": 199,
   "id": "06bc07b4-db28-464b-8ae5-f35b6cf90cc3",
   "metadata": {},
   "outputs": [],
   "source": [
    "def weighted_predict(X, y, df, weight_by=None):\n",
    "    n = y.shape\n",
    "    y_weighted = np.zeros(n)\n",
    "    all_predictions = []\n",
    "    all_metrics = []\n",
    "    \n",
    "    models = df['Model'].values\n",
    "    if weight_by is None:\n",
    "        weights = [1 for _ in range(n)]\n",
    "    else:\n",
    "        weights = df[weight_by].values\n",
    "\n",
    "    print(\"Making predictions...\")\n",
    "    for model, weight in tqdm(zip(models, weights)):\n",
    "        y_raw = model.predict(X)\n",
    "        all_predictions.append(y_raw)  # save this off for later comparison\n",
    "        y_pred = y_raw * 2 - 1  # transform to range [-1, 1]\n",
    "        y_pred = y_pred * weight\n",
    "        y_weighted += y_pred\n",
    "    # predictions are now in a range such that:\n",
    "    # y >= 0 means a positive classification\n",
    "    # y < 0 means a negative classification\n",
    "    y_weighted = y_weighted >= 0\n",
    "    all_predictions.append(y_weighted)\n",
    "\n",
    "    print(\"Getting metrics...\")\n",
    "    for prediction in tqdm(all_predictions):\n",
    "        d = {}\n",
    "        d[\"Precision\"] = precision_score(y, prediction)\n",
    "        d[\"Recall\"] = recall_score(y, prediction)\n",
    "        d[\"F1\"] = f1_score(y, prediction)\n",
    "        all_metrics.append(d)\n",
    "\n",
    "    print(\"Done.\")\n",
    "    return pd.DataFrame(all_metrics)"
   ]
  },
  {
   "cell_type": "code",
   "execution_count": 201,
   "id": "5253df61-cf0d-475e-93b3-ad1877ecc179",
   "metadata": {},
   "outputs": [
    {
     "name": "stdout",
     "output_type": "stream",
     "text": [
      "Making predictions...\n"
     ]
    },
    {
     "name": "stderr",
     "output_type": "stream",
     "text": [
      "10it [00:04,  2.49it/s]\n"
     ]
    },
    {
     "name": "stdout",
     "output_type": "stream",
     "text": [
      "Getting metrics...\n"
     ]
    },
    {
     "name": "stderr",
     "output_type": "stream",
     "text": [
      "100%|██████████████████████████████████████████████████████████████████████████████████| 11/11 [00:04<00:00,  2.22it/s]"
     ]
    },
    {
     "name": "stdout",
     "output_type": "stream",
     "text": [
      "Done.\n"
     ]
    },
    {
     "name": "stderr",
     "output_type": "stream",
     "text": [
      "\n"
     ]
    }
   ],
   "source": [
    "weight_df = weighted_predict(X_all, y_all, pred_df, 'F1')"
   ]
  },
  {
   "cell_type": "code",
   "execution_count": 202,
   "id": "827f425b-b123-4f65-92a4-df1a1153dbf0",
   "metadata": {},
   "outputs": [
    {
     "data": {
      "image/png": "[encoded data removed]",
      "text/plain": [
       "<Figure size 640x480 with 3 Axes>"
      ]
     },
     "metadata": {},
     "output_type": "display_data"
    }
   ],
   "source": [
    "plot_metrics(weight_df)"
   ]
  },
  {
   "cell_type": "markdown",
   "id": "e2c1e694-3226-476d-ac7a-e47daa99ecf5",
   "metadata": {},
   "source": [
    "# Experiments with `train_size`"
   ]
  },
  {
   "cell_type": "code",
   "execution_count": 205,
   "id": "5ef2d658-8b11-4c47-bada-470a643372c7",
   "metadata": {},
   "outputs": [
    {
     "data": {
      "text/html": [
       "<div>\n",
       "<style scoped>\n",
       "    .dataframe tbody tr th:only-of-type {\n",
       "        vertical-align: middle;\n",
       "    }\n",
       "\n",
       "    .dataframe tbody tr th {\n",
       "        vertical-align: top;\n",
       "    }\n",
       "\n",
       "    .dataframe thead th {\n",
       "        text-align: right;\n",
       "    }\n",
       "</style>\n",
       "<table border=\"1\" class=\"dataframe\">\n",
       "  <thead>\n",
       "    <tr style=\"text-align: right;\">\n",
       "      <th></th>\n",
       "      <th>Seed</th>\n",
       "      <th>Precision</th>\n",
       "      <th>Recall</th>\n",
       "      <th>F1</th>\n",
       "      <th>Indices</th>\n",
       "      <th>Model</th>\n",
       "    </tr>\n",
       "  </thead>\n",
       "  <tbody>\n",
       "    <tr>\n",
       "      <th>5</th>\n",
       "      <td>5</td>\n",
       "      <td>0.564356</td>\n",
       "      <td>0.434010</td>\n",
       "      <td>0.490674</td>\n",
       "      <td>[18638, 20463, 124605, 232422, 136592, 33800, ...</td>\n",
       "      <td>MLPClassifier()</td>\n",
       "    </tr>\n",
       "    <tr>\n",
       "      <th>7</th>\n",
       "      <td>7</td>\n",
       "      <td>0.299814</td>\n",
       "      <td>0.805000</td>\n",
       "      <td>0.436906</td>\n",
       "      <td>[61615, 189636, 49689, 10742, 235075, 79463, 1...</td>\n",
       "      <td>MLPClassifier()</td>\n",
       "    </tr>\n",
       "    <tr>\n",
       "      <th>8</th>\n",
       "      <td>8</td>\n",
       "      <td>0.331754</td>\n",
       "      <td>0.566038</td>\n",
       "      <td>0.418327</td>\n",
       "      <td>[70083, 25940, 149489, 256361, 231557, 236371,...</td>\n",
       "      <td>MLPClassifier()</td>\n",
       "    </tr>\n",
       "    <tr>\n",
       "      <th>1</th>\n",
       "      <td>1</td>\n",
       "      <td>0.486486</td>\n",
       "      <td>0.346154</td>\n",
       "      <td>0.404494</td>\n",
       "      <td>[128037, 267336, 73349, 117583, 21440, 229520,...</td>\n",
       "      <td>MLPClassifier()</td>\n",
       "    </tr>\n",
       "    <tr>\n",
       "      <th>3</th>\n",
       "      <td>3</td>\n",
       "      <td>0.286464</td>\n",
       "      <td>0.682500</td>\n",
       "      <td>0.403548</td>\n",
       "      <td>[71530, 198296, 77049, 48056, 11261, 215699, 2...</td>\n",
       "      <td>MLPClassifier()</td>\n",
       "    </tr>\n",
       "  </tbody>\n",
       "</table>\n",
       "</div>"
      ],
      "text/plain": [
       "   Seed  Precision    Recall        F1  \\\n",
       "5     5   0.564356  0.434010  0.490674   \n",
       "7     7   0.299814  0.805000  0.436906   \n",
       "8     8   0.331754  0.566038  0.418327   \n",
       "1     1   0.486486  0.346154  0.404494   \n",
       "3     3   0.286464  0.682500  0.403548   \n",
       "\n",
       "                                             Indices            Model  \n",
       "5  [18638, 20463, 124605, 232422, 136592, 33800, ...  MLPClassifier()  \n",
       "7  [61615, 189636, 49689, 10742, 235075, 79463, 1...  MLPClassifier()  \n",
       "8  [70083, 25940, 149489, 256361, 231557, 236371,...  MLPClassifier()  \n",
       "1  [128037, 267336, 73349, 117583, 21440, 229520,...  MLPClassifier()  \n",
       "3  [71530, 198296, 77049, 48056, 11261, 215699, 2...  MLPClassifier()  "
      ]
     },
     "execution_count": 205,
     "metadata": {},
     "output_type": "execute_result"
    }
   ],
   "source": [
    "pred_df.sort_values(by=\"F1\", ascending=False).head()"
   ]
  },
  {
   "cell_type": "code",
   "execution_count": 207,
   "id": "8f010228-3f2a-4b04-880e-ff9e139adb27",
   "metadata": {},
   "outputs": [],
   "source": [
    "# Get the indices of the data that yielded the best results from the sampling\n",
    "best_idx = pred_df.sort_values(by=\"F1\", ascending=False).index[0]\n",
    "bootstrapped_idx = pred_df.iloc[best_idx][\"Indices\"]\n",
    "bootstrapped_seed = pred_df.iloc[best_idx][\"Seed\"]\n",
    "\n",
    "X_sample = X_all[bootstrapped_idx, :]\n",
    "y_sample = y_all[bootstrapped_idx]"
   ]
  },
  {
   "cell_type": "code",
   "execution_count": 209,
   "id": "3f95953c-3b0b-401c-89d3-e1b4a8f5607b",
   "metadata": {},
   "outputs": [
    {
     "name": "stdout",
     "output_type": "stream",
     "text": [
      "Fitting model with 0.1 of the data... done in 6 seconds.\n",
      "Fitting model with 0.2 of the data... done in 14 seconds.\n",
      "Fitting model with 0.3 of the data... done in 38 seconds.\n",
      "Fitting model with 0.4 of the data... done in 14 seconds.\n",
      "Fitting model with 0.5 of the data... done in 259 seconds.\n",
      "Fitting model with 0.6 of the data... done in 107 seconds.\n",
      "Fitting model with 0.7 of the data... done in 199 seconds.\n",
      "Fitting model with 0.8 of the data... done in 89 seconds.\n"
     ]
    }
   ],
   "source": [
    "training = []\n",
    "sizes = (0.1, 0.2, 0.3, 0.4, 0.5, 0.6, 0.7, 0.8)\n",
    "for s in sizes:\n",
    "    t = fit_with_size(X_sample, y_sample, bootstrapped_seed, s, verbose=True)\n",
    "    training.append(t)"
   ]
  },
  {
   "cell_type": "code",
   "execution_count": 210,
   "id": "ce8f5de6-7cf4-4feb-ae8c-09a4836fda8f",
   "metadata": {},
   "outputs": [
    {
     "name": "stderr",
     "output_type": "stream",
     "text": [
      "C:\\Users\\ethan\\AppData\\Roaming\\Python\\Python311\\site-packages\\sklearn\\metrics\\_classification.py:1531: UndefinedMetricWarning: Precision is ill-defined and being set to 0.0 due to no predicted samples. Use `zero_division` parameter to control this behavior.\n",
      "  _warn_prf(average, modifier, f\"{metric.capitalize()} is\", len(result))\n"
     ]
    }
   ],
   "source": [
    "metrics = []\n",
    "for t in training:\n",
    "    m = {}\n",
    "    model, X_test, y_test = t\n",
    "    precision, recall, f1 = get_metrics(model, X_test, y_test)\n",
    "    m[\"Precision\"] = precision\n",
    "    m[\"Recall\"] = recall\n",
    "    m[\"F1\"] = f1\n",
    "    metrics.append(m)\n",
    "df_metrics = pd.DataFrame(metrics)\n",
    "df_metrics[\"Size\"] = sizes"
   ]
  },
  {
   "cell_type": "code",
   "execution_count": 211,
   "id": "cb619e62-d81e-4498-a0cc-3329096148d4",
   "metadata": {},
   "outputs": [
    {
     "data": {
      "image/png": "[encoded data removed]",
      "text/plain": [
       "<Figure size 640x480 with 1 Axes>"
      ]
     },
     "metadata": {},
     "output_type": "display_data"
    }
   ],
   "source": [
    "ax = df_metrics.plot(x=\"Size\", y=\"Precision\")\n",
    "df_metrics.plot(x=\"Size\", y=\"Recall\", ax=ax)\n",
    "df_metrics.plot(x=\"Size\", y=\"F1\", ax=ax)\n",
    "_ = plt.legend()"
   ]
  },
  {
   "cell_type": "code",
   "execution_count": null,
   "id": "430fde41-8e9b-430d-aa06-dd30a0e859ec",
   "metadata": {},
   "outputs": [],
   "source": []
  }
 ],
 "metadata": {
  "kernelspec": {
   "display_name": "Python 3 (ipykernel)",
   "language": "python",
   "name": "python3"
  },
  "language_info": {
   "codemirror_mode": {
    "name": "ipython",
    "version": 3
   },
   "file_extension": ".py",
   "mimetype": "text/x-python",
   "name": "python",
   "nbconvert_exporter": "python",
   "pygments_lexer": "ipython3",
   "version": "3.11.5"
  }
 },
 "nbformat": 4,
 "nbformat_minor": 5
}
