{
 "cells": [
  {
   "cell_type": "markdown",
   "id": "b3aaa228-a6d9-4edc-bb34-3a76690fc177",
   "metadata": {},
   "source": [
    "Fourth sandbox. In sandbox 3, the plot of F1 against `train_size` seemed to have an elbow at around 0.6, which happened to be the `train_size` used for the original bootstrap. This sandbox tests the following hypothesis:\n",
    "- if the bootstrapping was done with `train_size=0.1`, then the metrics generated across model predictions using `train_test_split` will have an elbow around `train_size=0.1`\n",
    "- if the bootstrapping was done with `train_size=0.2`, then the metrics generated across model predictions using `train_test_split` will have an elbow around `train_size=0.2`\n",
    "- and so on."
   ]
  },
  {
   "cell_type": "code",
   "execution_count": 2,
   "id": "37799f8e-18db-407b-9527-ec21213b34a7",
   "metadata": {},
   "outputs": [],
   "source": [
    "import pandas as pd\n",
    "import numpy as np\n",
    "from time import time\n",
    "from sklearn.model_selection import train_test_split\n",
    "from sklearn.tree import DecisionTreeClassifier\n",
    "from sklearn.metrics import precision_score, recall_score, f1_score\n",
    "from tqdm import tqdm\n",
    "import matplotlib.pyplot as plt"
   ]
  },
  {
   "cell_type": "code",
   "execution_count": 3,
   "id": "83f9af9d-2e08-406a-99af-8254e047ee7f",
   "metadata": {},
   "outputs": [
    {
     "name": "stdout",
     "output_type": "stream",
     "text": [
      "Index(['Time', 'V1', 'V2', 'V3', 'V4', 'V5', 'V6', 'V7', 'V8', 'V9', 'V10',\n",
      "       'V11', 'V12', 'V13', 'V14', 'V15', 'V16', 'V17', 'V18', 'V19', 'V20',\n",
      "       'V21', 'V22', 'V23', 'V24', 'V25', 'V26', 'V27', 'V28', 'Amount',\n",
      "       'Class'],\n",
      "      dtype='object')\n",
      "Class\n",
      "0    284315\n",
      "1       492\n",
      "Name: count, dtype: int64\n"
     ]
    }
   ],
   "source": [
    "# https://www.kaggle.com/datasets/mlg-ulb/creditcardfraud\n",
    "df = pd.read_csv('creditcard.csv')\n",
    "print(df.columns)\n",
    "print(df['Class'].value_counts())"
   ]
  },
  {
   "cell_type": "code",
   "execution_count": 4,
   "id": "b547ed25-82d7-4fa1-83f6-983ef14f76c9",
   "metadata": {},
   "outputs": [],
   "source": [
    "all_x = df[df.columns[:-1]]\n",
    "all_y = df['Class']"
   ]
  },
  {
   "cell_type": "code",
   "execution_count": 8,
   "id": "20e66615-d2ad-4dc9-abd5-a6ea4147d787",
   "metadata": {},
   "outputs": [],
   "source": [
    "def fit_with_size(X_sample, y_sample, seed, train_size, verbose=False):\n",
    "    X_train, X_test, y_train, y_test = train_test_split(\n",
    "        X_sample, y_sample,\n",
    "        train_size=train_size,\n",
    "        stratify=y_sample,\n",
    "        random_state=seed  # make less random\n",
    "    )\n",
    "\n",
    "    if verbose:\n",
    "        print(\"Fitting model with\", train_size, \"of the data...\", end=' ')\n",
    "        start_time = time()\n",
    "    np.random.seed(seed)  # make less random\n",
    "    model = DecisionTreeClassifier().fit(X_train, y_train)\n",
    "    if verbose:\n",
    "        end_time = time()\n",
    "        print(\"done in\", round(end_time-start_time), \"seconds.\")\n",
    "\n",
    "    return model, X_test, y_test"
   ]
  },
  {
   "cell_type": "code",
   "execution_count": 10,
   "id": "d328bc22-68d8-4ba5-96fe-7b015066a362",
   "metadata": {},
   "outputs": [],
   "source": [
    "def get_metrics(model, X_test, y_test):\n",
    "    y_pred = model.predict(X_test)\n",
    "\n",
    "    precision = precision_score(y_test, y_pred)\n",
    "    recall = recall_score(y_test, y_pred)\n",
    "    f1 = f1_score(y_test, y_pred)\n",
    "    return precision, recall, f1"
   ]
  },
  {
   "cell_type": "code",
   "execution_count": 15,
   "id": "72c3b0a4-bb80-403e-84a1-83c5796faa51",
   "metadata": {},
   "outputs": [],
   "source": [
    "# https://www.kdnuggets.com/2023/03/bootstrapping.html\n",
    "def bootstrap(X_df, y_df, n_samples, train_size):\n",
    "    results = []\n",
    "    for i in tqdm(range(n_samples)):\n",
    "        run = {}\n",
    "        np.random.seed(i)  # make less random\n",
    "        indices = np.random.choice(X_df.shape[0], size=X_df.shape[0], replace=True)\n",
    "        X_sample = X_df.values[indices, :]\n",
    "        y_sample = y_df.values[indices]\n",
    "\n",
    "        model, X_test, y_test = fit_with_size(X_sample, y_sample, i, train_size)\n",
    "        precision, recall, f1 = get_metrics(model, X_test, y_test)\n",
    "\n",
    "        run[\"Seed\"] = i\n",
    "        run[\"Precision\"] = precision\n",
    "        run[\"Recall\"] = recall\n",
    "        run[\"F1\"] = f1\n",
    "        run[\"Indices\"] = indices\n",
    "        results.append(run)\n",
    "    return pd.DataFrame(results)"
   ]
  },
  {
   "cell_type": "code",
   "execution_count": 69,
   "id": "58e3734d-edd3-43e5-9944-e91849108a0a",
   "metadata": {},
   "outputs": [
    {
     "name": "stdout",
     "output_type": "stream",
     "text": [
      "Bootstrapping with size 0.1\n"
     ]
    },
    {
     "name": "stderr",
     "output_type": "stream",
     "text": [
      "100%|██████████████████████████████████████████████████████████████████████████████████| 10/10 [00:10<00:00,  1.10s/it]\n"
     ]
    },
    {
     "name": "stdout",
     "output_type": "stream",
     "text": [
      "Fitting model with 0.1 of the data... done in 1 seconds.\n",
      "Fitting model with 0.2 of the data... done in 2 seconds.\n",
      "Fitting model with 0.3 of the data... done in 3 seconds.\n",
      "Fitting model with 0.4 of the data... done in 4 seconds.\n",
      "Fitting model with 0.5 of the data... done in 5 seconds.\n",
      "Fitting model with 0.6 of the data... done in 7 seconds.\n",
      "Fitting model with 0.7 of the data... done in 9 seconds.\n",
      "Fitting model with 0.8 of the data... done in 9 seconds.\n",
      "Bootstrapping with size 0.2\n"
     ]
    },
    {
     "name": "stderr",
     "output_type": "stream",
     "text": [
      "100%|██████████████████████████████████████████████████████████████████████████████████| 10/10 [00:23<00:00,  2.34s/it]\n"
     ]
    },
    {
     "name": "stdout",
     "output_type": "stream",
     "text": [
      "Fitting model with 0.1 of the data... done in 1 seconds.\n",
      "Fitting model with 0.2 of the data... done in 1 seconds.\n",
      "Fitting model with 0.3 of the data... done in 3 seconds.\n",
      "Fitting model with 0.4 of the data... done in 4 seconds.\n",
      "Fitting model with 0.5 of the data... done in 6 seconds.\n",
      "Fitting model with 0.6 of the data... done in 8 seconds.\n",
      "Fitting model with 0.7 of the data... done in 8 seconds.\n",
      "Fitting model with 0.8 of the data... done in 9 seconds.\n",
      "Bootstrapping with size 0.3\n"
     ]
    },
    {
     "name": "stderr",
     "output_type": "stream",
     "text": [
      "100%|██████████████████████████████████████████████████████████████████████████████████| 10/10 [00:40<00:00,  4.02s/it]\n"
     ]
    },
    {
     "name": "stdout",
     "output_type": "stream",
     "text": [
      "Fitting model with 0.1 of the data... done in 1 seconds.\n",
      "Fitting model with 0.2 of the data... done in 2 seconds.\n",
      "Fitting model with 0.3 of the data... done in 4 seconds.\n",
      "Fitting model with 0.4 of the data... done in 5 seconds.\n",
      "Fitting model with 0.5 of the data... done in 8 seconds.\n",
      "Fitting model with 0.6 of the data... done in 10 seconds.\n",
      "Fitting model with 0.7 of the data... done in 10 seconds.\n",
      "Fitting model with 0.8 of the data... done in 12 seconds.\n",
      "Bootstrapping with size 0.4\n"
     ]
    },
    {
     "name": "stderr",
     "output_type": "stream",
     "text": [
      "100%|██████████████████████████████████████████████████████████████████████████████████| 10/10 [00:52<00:00,  5.29s/it]\n"
     ]
    },
    {
     "name": "stdout",
     "output_type": "stream",
     "text": [
      "Fitting model with 0.1 of the data... done in 1 seconds.\n",
      "Fitting model with 0.2 of the data... done in 2 seconds.\n",
      "Fitting model with 0.3 of the data... done in 4 seconds.\n",
      "Fitting model with 0.4 of the data... done in 6 seconds.\n",
      "Fitting model with 0.5 of the data... done in 9 seconds.\n",
      "Fitting model with 0.6 of the data... done in 9 seconds.\n",
      "Fitting model with 0.7 of the data... done in 11 seconds.\n",
      "Fitting model with 0.8 of the data... done in 14 seconds.\n",
      "Bootstrapping with size 0.5\n"
     ]
    },
    {
     "name": "stderr",
     "output_type": "stream",
     "text": [
      "100%|██████████████████████████████████████████████████████████████████████████████████| 10/10 [01:12<00:00,  7.25s/it]\n"
     ]
    },
    {
     "name": "stdout",
     "output_type": "stream",
     "text": [
      "Fitting model with 0.1 of the data... done in 1 seconds.\n",
      "Fitting model with 0.2 of the data... done in 2 seconds.\n",
      "Fitting model with 0.3 of the data... done in 4 seconds.\n",
      "Fitting model with 0.4 of the data... done in 5 seconds.\n",
      "Fitting model with 0.5 of the data... done in 8 seconds.\n",
      "Fitting model with 0.6 of the data... done in 9 seconds.\n",
      "Fitting model with 0.7 of the data... done in 10 seconds.\n",
      "Fitting model with 0.8 of the data... done in 12 seconds.\n",
      "Bootstrapping with size 0.6\n"
     ]
    },
    {
     "name": "stderr",
     "output_type": "stream",
     "text": [
      "100%|██████████████████████████████████████████████████████████████████████████████████| 10/10 [01:24<00:00,  8.49s/it]\n"
     ]
    },
    {
     "name": "stdout",
     "output_type": "stream",
     "text": [
      "Fitting model with 0.1 of the data... done in 1 seconds.\n",
      "Fitting model with 0.2 of the data... done in 2 seconds.\n",
      "Fitting model with 0.3 of the data... done in 3 seconds.\n",
      "Fitting model with 0.4 of the data... done in 4 seconds.\n",
      "Fitting model with 0.5 of the data... done in 5 seconds.\n",
      "Fitting model with 0.6 of the data... done in 7 seconds.\n",
      "Fitting model with 0.7 of the data... done in 9 seconds.\n",
      "Fitting model with 0.8 of the data... done in 9 seconds.\n",
      "Bootstrapping with size 0.7\n"
     ]
    },
    {
     "name": "stderr",
     "output_type": "stream",
     "text": [
      "100%|██████████████████████████████████████████████████████████████████████████████████| 10/10 [01:37<00:00,  9.78s/it]\n"
     ]
    },
    {
     "name": "stdout",
     "output_type": "stream",
     "text": [
      "Fitting model with 0.1 of the data... done in 1 seconds.\n",
      "Fitting model with 0.2 of the data... done in 2 seconds.\n",
      "Fitting model with 0.3 of the data... done in 4 seconds.\n",
      "Fitting model with 0.4 of the data... done in 6 seconds.\n",
      "Fitting model with 0.5 of the data... done in 7 seconds.\n",
      "Fitting model with 0.6 of the data... done in 9 seconds.\n",
      "Fitting model with 0.7 of the data... done in 9 seconds.\n",
      "Fitting model with 0.8 of the data... done in 11 seconds.\n",
      "Bootstrapping with size 0.8\n"
     ]
    },
    {
     "name": "stderr",
     "output_type": "stream",
     "text": [
      "100%|██████████████████████████████████████████████████████████████████████████████████| 10/10 [01:59<00:00, 11.97s/it]\n"
     ]
    },
    {
     "name": "stdout",
     "output_type": "stream",
     "text": [
      "Fitting model with 0.1 of the data... done in 1 seconds.\n",
      "Fitting model with 0.2 of the data... done in 2 seconds.\n",
      "Fitting model with 0.3 of the data... done in 4 seconds.\n",
      "Fitting model with 0.4 of the data... done in 5 seconds.\n",
      "Fitting model with 0.5 of the data... done in 7 seconds.\n",
      "Fitting model with 0.6 of the data... done in 9 seconds.\n",
      "Fitting model with 0.7 of the data... done in 9 seconds.\n",
      "Fitting model with 0.8 of the data... done in 11 seconds.\n"
     ]
    }
   ],
   "source": [
    "sizes = (0.1, 0.2, 0.3, 0.4, 0.5, 0.6, 0.7, 0.8)\n",
    "data = {}\n",
    "for s_boot in sizes:\n",
    "    print(\"Bootstrapping with size\", s_boot)\n",
    "    pred_df = bootstrap(all_x, all_y, 10, s_boot)\n",
    "    \n",
    "    best_idx = pred_df.sort_values(by=\"F1\", ascending=False).index[0]\n",
    "    bootstrapped_idx = pred_df.iloc[best_idx][\"Indices\"]\n",
    "    bootstrapped_seed = pred_df.iloc[best_idx][\"Seed\"]\n",
    "    \n",
    "    X_sample = all_x.values[bootstrapped_idx, :]\n",
    "    y_sample = all_y.values[bootstrapped_idx]\n",
    "\n",
    "    fit = []\n",
    "    for s_fit in sizes:\n",
    "        model, X_test, y_test = fit_with_size(X_sample, y_sample, bootstrapped_seed, s_fit, verbose=True)\n",
    "        precision, recall, f1 = get_metrics(model, X_test, y_test)\n",
    "        fit.append(f1)\n",
    "    data[s_boot] = fit"
   ]
  },
  {
   "cell_type": "code",
   "execution_count": 70,
   "id": "8fef41b0-dabf-42c7-8731-80b7780e8bcb",
   "metadata": {},
   "outputs": [],
   "source": [
    "df_data = pd.DataFrame(data)\n",
    "df_data[\"Size\"] = sizes"
   ]
  },
  {
   "cell_type": "code",
   "execution_count": 71,
   "id": "0b36448d-f0d2-4376-b391-4ea1da345795",
   "metadata": {},
   "outputs": [
    {
     "data": {
      "text/html": [
       "<div>\n",
       "<style scoped>\n",
       "    .dataframe tbody tr th:only-of-type {\n",
       "        vertical-align: middle;\n",
       "    }\n",
       "\n",
       "    .dataframe tbody tr th {\n",
       "        vertical-align: top;\n",
       "    }\n",
       "\n",
       "    .dataframe thead th {\n",
       "        text-align: right;\n",
       "    }\n",
       "</style>\n",
       "<table border=\"1\" class=\"dataframe\">\n",
       "  <thead>\n",
       "    <tr style=\"text-align: right;\">\n",
       "      <th></th>\n",
       "      <th>0.1</th>\n",
       "      <th>0.2</th>\n",
       "      <th>0.3</th>\n",
       "      <th>0.4</th>\n",
       "      <th>0.5</th>\n",
       "      <th>0.6</th>\n",
       "      <th>0.7</th>\n",
       "      <th>0.8</th>\n",
       "      <th>Size</th>\n",
       "    </tr>\n",
       "  </thead>\n",
       "  <tbody>\n",
       "    <tr>\n",
       "      <th>0</th>\n",
       "      <td>0.740571</td>\n",
       "      <td>0.684492</td>\n",
       "      <td>0.732121</td>\n",
       "      <td>0.683761</td>\n",
       "      <td>0.732121</td>\n",
       "      <td>0.740571</td>\n",
       "      <td>0.615385</td>\n",
       "      <td>0.615385</td>\n",
       "      <td>0.1</td>\n",
       "    </tr>\n",
       "    <tr>\n",
       "      <th>1</th>\n",
       "      <td>0.728192</td>\n",
       "      <td>0.789474</td>\n",
       "      <td>0.756005</td>\n",
       "      <td>0.737276</td>\n",
       "      <td>0.756005</td>\n",
       "      <td>0.728192</td>\n",
       "      <td>0.683511</td>\n",
       "      <td>0.683511</td>\n",
       "      <td>0.2</td>\n",
       "    </tr>\n",
       "    <tr>\n",
       "      <th>2</th>\n",
       "      <td>0.744868</td>\n",
       "      <td>0.822400</td>\n",
       "      <td>0.835098</td>\n",
       "      <td>0.799387</td>\n",
       "      <td>0.835098</td>\n",
       "      <td>0.744868</td>\n",
       "      <td>0.789555</td>\n",
       "      <td>0.789555</td>\n",
       "      <td>0.3</td>\n",
       "    </tr>\n",
       "    <tr>\n",
       "      <th>3</th>\n",
       "      <td>0.807496</td>\n",
       "      <td>0.818671</td>\n",
       "      <td>0.837050</td>\n",
       "      <td>0.850615</td>\n",
       "      <td>0.837050</td>\n",
       "      <td>0.807496</td>\n",
       "      <td>0.822898</td>\n",
       "      <td>0.822898</td>\n",
       "      <td>0.4</td>\n",
       "    </tr>\n",
       "    <tr>\n",
       "      <th>4</th>\n",
       "      <td>0.803883</td>\n",
       "      <td>0.845815</td>\n",
       "      <td>0.873118</td>\n",
       "      <td>0.856540</td>\n",
       "      <td>0.873118</td>\n",
       "      <td>0.803883</td>\n",
       "      <td>0.830835</td>\n",
       "      <td>0.830835</td>\n",
       "      <td>0.5</td>\n",
       "    </tr>\n",
       "    <tr>\n",
       "      <th>5</th>\n",
       "      <td>0.879607</td>\n",
       "      <td>0.868852</td>\n",
       "      <td>0.840108</td>\n",
       "      <td>0.834225</td>\n",
       "      <td>0.840108</td>\n",
       "      <td>0.879607</td>\n",
       "      <td>0.856354</td>\n",
       "      <td>0.856354</td>\n",
       "      <td>0.6</td>\n",
       "    </tr>\n",
       "    <tr>\n",
       "      <th>6</th>\n",
       "      <td>0.875817</td>\n",
       "      <td>0.880866</td>\n",
       "      <td>0.868687</td>\n",
       "      <td>0.898955</td>\n",
       "      <td>0.868687</td>\n",
       "      <td>0.875817</td>\n",
       "      <td>0.906475</td>\n",
       "      <td>0.906475</td>\n",
       "      <td>0.7</td>\n",
       "    </tr>\n",
       "    <tr>\n",
       "      <th>7</th>\n",
       "      <td>0.866995</td>\n",
       "      <td>0.902174</td>\n",
       "      <td>0.865979</td>\n",
       "      <td>0.892473</td>\n",
       "      <td>0.865979</td>\n",
       "      <td>0.866995</td>\n",
       "      <td>0.930481</td>\n",
       "      <td>0.930481</td>\n",
       "      <td>0.8</td>\n",
       "    </tr>\n",
       "  </tbody>\n",
       "</table>\n",
       "</div>"
      ],
      "text/plain": [
       "        0.1       0.2       0.3       0.4       0.5       0.6       0.7  \\\n",
       "0  0.740571  0.684492  0.732121  0.683761  0.732121  0.740571  0.615385   \n",
       "1  0.728192  0.789474  0.756005  0.737276  0.756005  0.728192  0.683511   \n",
       "2  0.744868  0.822400  0.835098  0.799387  0.835098  0.744868  0.789555   \n",
       "3  0.807496  0.818671  0.837050  0.850615  0.837050  0.807496  0.822898   \n",
       "4  0.803883  0.845815  0.873118  0.856540  0.873118  0.803883  0.830835   \n",
       "5  0.879607  0.868852  0.840108  0.834225  0.840108  0.879607  0.856354   \n",
       "6  0.875817  0.880866  0.868687  0.898955  0.868687  0.875817  0.906475   \n",
       "7  0.866995  0.902174  0.865979  0.892473  0.865979  0.866995  0.930481   \n",
       "\n",
       "        0.8  Size  \n",
       "0  0.615385   0.1  \n",
       "1  0.683511   0.2  \n",
       "2  0.789555   0.3  \n",
       "3  0.822898   0.4  \n",
       "4  0.830835   0.5  \n",
       "5  0.856354   0.6  \n",
       "6  0.906475   0.7  \n",
       "7  0.930481   0.8  "
      ]
     },
     "execution_count": 71,
     "metadata": {},
     "output_type": "execute_result"
    }
   ],
   "source": [
    "df_data"
   ]
  },
  {
   "cell_type": "code",
   "execution_count": 115,
   "id": "14e73783-f15d-4de7-990e-c736a3f5eee1",
   "metadata": {},
   "outputs": [
    {
     "data": {
      "image/png": "[encoded data removed]",
      "text/plain": [
       "<Figure size 640x480 with 1 Axes>"
      ]
     },
     "metadata": {},
     "output_type": "display_data"
    }
   ],
   "source": [
    "colors = [plt.cm.viridis(s) for s in np.linspace(0, 1, num=len(sizes))]\n",
    "_ = df_data.plot(x=\"Size\", color=colors)"
   ]
  }
 ],
 "metadata": {
  "kernelspec": {
   "display_name": "Python 3 (ipykernel)",
   "language": "python",
   "name": "python3"
  },
  "language_info": {
   "codemirror_mode": {
    "name": "ipython",
    "version": 3
   },
   "file_extension": ".py",
   "mimetype": "text/x-python",
   "name": "python",
   "nbconvert_exporter": "python",
   "pygments_lexer": "ipython3",
   "version": "3.11.5"
  }
 },
 "nbformat": 4,
 "nbformat_minor": 5
}
