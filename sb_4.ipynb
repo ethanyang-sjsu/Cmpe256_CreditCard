{
 "cells": [
  {
   "cell_type": "markdown",
   "id": "b3aaa228-a6d9-4edc-bb34-3a76690fc177",
   "metadata": {},
   "source": [
    "Failed attempt with RBF SVM."
   ]
  },
  {
   "cell_type": "code",
   "execution_count": 1,
   "id": "37799f8e-18db-407b-9527-ec21213b34a7",
   "metadata": {},
   "outputs": [],
   "source": [
    "import pandas as pd\n",
    "import numpy as np\n",
    "from time import time\n",
    "from sklearn.model_selection import train_test_split\n",
    "# https://scikit-learn.org/stable/auto_examples/classification/plot_classifier_comparison.html\n",
    "from sklearn.svm import SVC\n",
    "from sklearn.metrics import precision_score, recall_score, f1_score\n",
    "from tqdm import tqdm\n",
    "import matplotlib.pyplot as plt"
   ]
  },
  {
   "cell_type": "code",
   "execution_count": 2,
   "id": "83f9af9d-2e08-406a-99af-8254e047ee7f",
   "metadata": {},
   "outputs": [
    {
     "name": "stdout",
     "output_type": "stream",
     "text": [
      "Index(['Time', 'V1', 'V2', 'V3', 'V4', 'V5', 'V6', 'V7', 'V8', 'V9', 'V10',\n",
      "       'V11', 'V12', 'V13', 'V14', 'V15', 'V16', 'V17', 'V18', 'V19', 'V20',\n",
      "       'V21', 'V22', 'V23', 'V24', 'V25', 'V26', 'V27', 'V28', 'Amount',\n",
      "       'Class'],\n",
      "      dtype='object')\n",
      "Class\n",
      "0    284315\n",
      "1       492\n",
      "Name: count, dtype: int64\n"
     ]
    }
   ],
   "source": [
    "# https://www.kaggle.com/datasets/mlg-ulb/creditcardfraud\n",
    "df = pd.read_csv('creditcard.csv')\n",
    "print(df.columns)\n",
    "print(df['Class'].value_counts())"
   ]
  },
  {
   "cell_type": "code",
   "execution_count": 5,
   "id": "b547ed25-82d7-4fa1-83f6-983ef14f76c9",
   "metadata": {},
   "outputs": [],
   "source": [
    "X_all = df[df.columns[:-1]].values\n",
    "y_all = df['Class'].values"
   ]
  },
  {
   "cell_type": "code",
   "execution_count": 7,
   "id": "20e66615-d2ad-4dc9-abd5-a6ea4147d787",
   "metadata": {},
   "outputs": [],
   "source": [
    "def fit_with_size(X_sample, y_sample, seed, train_size, verbose=False):\n",
    "    X_train, X_test, y_train, y_test = train_test_split(\n",
    "        X_sample, y_sample,\n",
    "        train_size=train_size,\n",
    "        stratify=y_sample,\n",
    "        random_state=seed  # make less random\n",
    "    )\n",
    "\n",
    "    if verbose:\n",
    "        print(\"Fitting model with\", train_size, \"of the data...\", end=' ')\n",
    "        start_time = time()\n",
    "    np.random.seed(seed)  # make less random\n",
    "    model = SVC(gamma=2, C=1, random_state=seed).fit(X_train, y_train)\n",
    "    if verbose:\n",
    "        end_time = time()\n",
    "        print(\"done in\", round(end_time-start_time), \"seconds.\")\n",
    "\n",
    "    return model, X_test, y_test"
   ]
  },
  {
   "cell_type": "code",
   "execution_count": 9,
   "id": "d328bc22-68d8-4ba5-96fe-7b015066a362",
   "metadata": {},
   "outputs": [],
   "source": [
    "def get_metrics(model, X_test, y_test):\n",
    "    y_pred = []\n",
    "    \n",
    "    n_chunks = 100\n",
    "    for i in tqdm(range(n_chunks)):\n",
    "        chunk = X_test[i*n_chunks:(i+1)*n_chunks]\n",
    "        chunk_pred = model.predict(chunk)\n",
    "        y_pred.extend(chunk_pred)\n",
    "\n",
    "    precision = precision_score(y_test, y_pred)\n",
    "    recall = recall_score(y_test, y_pred)\n",
    "    f1 = f1_score(y_test, y_pred)\n",
    "    return precision, recall, f1"
   ]
  },
  {
   "cell_type": "code",
   "execution_count": 11,
   "id": "82e030a4-c029-40d8-833c-b0b079ed7fbe",
   "metadata": {},
   "outputs": [
    {
     "name": "stdout",
     "output_type": "stream",
     "text": [
      "Fitting model with 0.2 of the data... done in 906 seconds.\n"
     ]
    }
   ],
   "source": [
    "model, X_test, y_test = fit_with_size(\n",
    "    X_all, y_all,\n",
    "    seed=0, train_size=0.2,\n",
    "    verbose=True\n",
    ")"
   ]
  },
  {
   "cell_type": "code",
   "execution_count": 12,
   "id": "44ebe9ad-fd77-4463-85de-0c7a62a7360a",
   "metadata": {},
   "outputs": [
    {
     "name": "stderr",
     "output_type": "stream",
     "text": [
      "100%|████████████████████████████████████████████████████████████████████████████████| 100/100 [01:50<00:00,  1.10s/it]\n",
      "C:\\Users\\ethan\\AppData\\Roaming\\Python\\Python311\\site-packages\\sklearn\\metrics\\_classification.py:1531: UndefinedMetricWarning: Precision is ill-defined and being set to 0.0 due to no predicted samples. Use `zero_division` parameter to control this behavior.\n",
      "  _warn_prf(average, modifier, f\"{metric.capitalize()} is\", len(result))\n"
     ]
    },
    {
     "data": {
      "text/plain": [
       "(0.0, 0.0, 0.0)"
      ]
     },
     "execution_count": 12,
     "metadata": {},
     "output_type": "execute_result"
    }
   ],
   "source": [
    "get_metrics(model, X_test[:10000], y_test[:10000])"
   ]
  },
  {
   "cell_type": "code",
   "execution_count": 13,
   "id": "833cfbe9-e82b-494a-8a11-8751c9197f16",
   "metadata": {},
   "outputs": [
    {
     "data": {
      "text/plain": [
       "array([  451,   629,  2019,  2621,  3149,  5289,  5376,  5711,  6001,\n",
       "        7071,  7649,  7708,  7764,  7957,  9200,  9425, 10602, 10637,\n",
       "       10846, 11697], dtype=int64)"
      ]
     },
     "execution_count": 13,
     "metadata": {},
     "output_type": "execute_result"
    }
   ],
   "source": [
    "np.where(y_test == 1)[0][:20]"
   ]
  },
  {
   "cell_type": "code",
   "execution_count": 14,
   "id": "cc412efc-3376-4ca0-8a35-6e18af95b04b",
   "metadata": {},
   "outputs": [
    {
     "data": {
      "text/plain": [
       "0"
      ]
     },
     "execution_count": 14,
     "metadata": {},
     "output_type": "execute_result"
    }
   ],
   "source": [
    "# there's 2 positive samples in the first 1000 rows, but\n",
    "# the model doesn't label them that way\n",
    "p = model.predict(X_test[:1000])\n",
    "sum(p)  # all 0's"
   ]
  },
  {
   "cell_type": "code",
   "execution_count": null,
   "id": "6c17fd79-288f-43f8-8a83-38a8045fd426",
   "metadata": {},
   "outputs": [],
   "source": []
  }
 ],
 "metadata": {
  "kernelspec": {
   "display_name": "Python 3 (ipykernel)",
   "language": "python",
   "name": "python3"
  },
  "language_info": {
   "codemirror_mode": {
    "name": "ipython",
    "version": 3
   },
   "file_extension": ".py",
   "mimetype": "text/x-python",
   "name": "python",
   "nbconvert_exporter": "python",
   "pygments_lexer": "ipython3",
   "version": "3.11.5"
  }
 },
 "nbformat": 4,
 "nbformat_minor": 5
}
