{
 "cells": [
  {
   "cell_type": "markdown",
   "id": "b3aaa228-a6d9-4edc-bb34-3a76690fc177",
   "metadata": {},
   "source": [
    "Third sandbox. Same dataset as the second one. This time, switched to `DecisionTreeClassifier`, which immediately improved the results."
   ]
  },
  {
   "cell_type": "code",
   "execution_count": 1,
   "id": "37799f8e-18db-407b-9527-ec21213b34a7",
   "metadata": {},
   "outputs": [],
   "source": [
    "import pandas as pd\n",
    "import numpy as np\n",
    "from time import time\n",
    "from sklearn.model_selection import train_test_split\n",
    "from sklearn.tree import DecisionTreeClassifier\n",
    "from sklearn.metrics import precision_score, recall_score, f1_score\n",
    "from tqdm import tqdm\n",
    "import matplotlib.pyplot as plt"
   ]
  },
  {
   "cell_type": "code",
   "execution_count": 3,
   "id": "83f9af9d-2e08-406a-99af-8254e047ee7f",
   "metadata": {},
   "outputs": [
    {
     "name": "stdout",
     "output_type": "stream",
     "text": [
      "Index(['Time', 'V1', 'V2', 'V3', 'V4', 'V5', 'V6', 'V7', 'V8', 'V9', 'V10',\n",
      "       'V11', 'V12', 'V13', 'V14', 'V15', 'V16', 'V17', 'V18', 'V19', 'V20',\n",
      "       'V21', 'V22', 'V23', 'V24', 'V25', 'V26', 'V27', 'V28', 'Amount',\n",
      "       'Class'],\n",
      "      dtype='object')\n",
      "Class\n",
      "0    284315\n",
      "1       492\n",
      "Name: count, dtype: int64\n"
     ]
    }
   ],
   "source": [
    "# https://www.kaggle.com/datasets/mlg-ulb/creditcardfraud\n",
    "df = pd.read_csv('creditcard.csv')\n",
    "print(df.columns)\n",
    "print(df['Class'].value_counts())"
   ]
  },
  {
   "cell_type": "code",
   "execution_count": 5,
   "id": "b547ed25-82d7-4fa1-83f6-983ef14f76c9",
   "metadata": {},
   "outputs": [],
   "source": [
    "all_x = df[df.columns[:-1]]\n",
    "all_y = df['Class']"
   ]
  },
  {
   "cell_type": "code",
   "execution_count": 7,
   "id": "20e66615-d2ad-4dc9-abd5-a6ea4147d787",
   "metadata": {},
   "outputs": [],
   "source": [
    "def fit_with_size(X_sample, y_sample, seed, train_size, verbose=False):\n",
    "    X_train, X_test, y_train, y_test = train_test_split(\n",
    "        X_sample, y_sample,\n",
    "        train_size=train_size,\n",
    "        stratify=y_sample,\n",
    "        random_state=seed  # make less random\n",
    "    )\n",
    "\n",
    "    if verbose:\n",
    "        print(\"Fitting model with\", train_size, \"of the data...\", end=' ')\n",
    "        start_time = time()\n",
    "    np.random.seed(seed)  # make less random\n",
    "    model = DecisionTreeClassifier().fit(X_train, y_train)\n",
    "    if verbose:\n",
    "        end_time = time()\n",
    "        print(\"done in\", round(end_time-start_time), \"seconds.\")\n",
    "\n",
    "    return model, X_test, y_test"
   ]
  },
  {
   "cell_type": "code",
   "execution_count": 9,
   "id": "d328bc22-68d8-4ba5-96fe-7b015066a362",
   "metadata": {},
   "outputs": [],
   "source": [
    "def get_metrics(model, X_test, y_test):\n",
    "    y_pred = model.predict(X_test)\n",
    "\n",
    "    precision = precision_score(y_test, y_pred)\n",
    "    recall = recall_score(y_test, y_pred)\n",
    "    f1 = f1_score(y_test, y_pred)\n",
    "    return precision, recall, f1"
   ]
  },
  {
   "cell_type": "code",
   "execution_count": 11,
   "id": "72c3b0a4-bb80-403e-84a1-83c5796faa51",
   "metadata": {},
   "outputs": [],
   "source": [
    "# https://www.kdnuggets.com/2023/03/bootstrapping.html\n",
    "def bootstrap(X_df, y_df, n_samples, train_size):\n",
    "    results = []\n",
    "    for i in tqdm(range(n_samples)):\n",
    "        run = {}\n",
    "        np.random.seed(i)  # make less random\n",
    "        indices = np.random.choice(X_df.shape[0], size=X_df.shape[0], replace=True)\n",
    "        X_sample = X_df.values[indices, :]\n",
    "        y_sample = y_df.values[indices]\n",
    "\n",
    "        model, X_test, y_test = fit_with_size(X_sample, y_sample, i, train_size)\n",
    "        precision, recall, f1 = get_metrics(model, X_test, y_test)\n",
    "\n",
    "        run[\"Seed\"] = i\n",
    "        run[\"Precision\"] = precision\n",
    "        run[\"Recall\"] = recall\n",
    "        run[\"F1\"] = f1\n",
    "        run[\"Indices\"] = indices\n",
    "        results.append(run)\n",
    "    return pd.DataFrame(results)"
   ]
  },
  {
   "cell_type": "code",
   "execution_count": 25,
   "id": "58e3734d-edd3-43e5-9944-e91849108a0a",
   "metadata": {},
   "outputs": [
    {
     "name": "stderr",
     "output_type": "stream",
     "text": [
      "100%|██████████████████████████████████████████████████████████████████████████████████| 10/10 [01:31<00:00,  9.11s/it]\n"
     ]
    }
   ],
   "source": [
    "pred_df = bootstrap(all_x, all_y, 10, 0.6)"
   ]
  },
  {
   "cell_type": "code",
   "execution_count": 26,
   "id": "5ef2d658-8b11-4c47-bada-470a643372c7",
   "metadata": {},
   "outputs": [
    {
     "data": {
      "text/html": [
       "<div>\n",
       "<style scoped>\n",
       "    .dataframe tbody tr th:only-of-type {\n",
       "        vertical-align: middle;\n",
       "    }\n",
       "\n",
       "    .dataframe tbody tr th {\n",
       "        vertical-align: top;\n",
       "    }\n",
       "\n",
       "    .dataframe thead th {\n",
       "        text-align: right;\n",
       "    }\n",
       "</style>\n",
       "<table border=\"1\" class=\"dataframe\">\n",
       "  <thead>\n",
       "    <tr style=\"text-align: right;\">\n",
       "      <th></th>\n",
       "      <th>Seed</th>\n",
       "      <th>Precision</th>\n",
       "      <th>Recall</th>\n",
       "      <th>F1</th>\n",
       "      <th>Indices</th>\n",
       "    </tr>\n",
       "  </thead>\n",
       "  <tbody>\n",
       "    <tr>\n",
       "      <th>3</th>\n",
       "      <td>3</td>\n",
       "      <td>0.864734</td>\n",
       "      <td>0.895000</td>\n",
       "      <td>0.879607</td>\n",
       "      <td>[71530, 198296, 77049, 48056, 11261, 215699, 2...</td>\n",
       "    </tr>\n",
       "    <tr>\n",
       "      <th>9</th>\n",
       "      <td>9</td>\n",
       "      <td>0.892655</td>\n",
       "      <td>0.854054</td>\n",
       "      <td>0.872928</td>\n",
       "      <td>[187006, 196534, 173819, 267158, 91261, 70209,...</td>\n",
       "    </tr>\n",
       "    <tr>\n",
       "      <th>1</th>\n",
       "      <td>1</td>\n",
       "      <td>0.864130</td>\n",
       "      <td>0.873626</td>\n",
       "      <td>0.868852</td>\n",
       "      <td>[128037, 267336, 73349, 117583, 21440, 229520,...</td>\n",
       "    </tr>\n",
       "    <tr>\n",
       "      <th>4</th>\n",
       "      <td>4</td>\n",
       "      <td>0.860104</td>\n",
       "      <td>0.855670</td>\n",
       "      <td>0.857881</td>\n",
       "      <td>[120705, 129384, 115144, 94601, 107578, 79981,...</td>\n",
       "    </tr>\n",
       "    <tr>\n",
       "      <th>8</th>\n",
       "      <td>8</td>\n",
       "      <td>0.880682</td>\n",
       "      <td>0.833333</td>\n",
       "      <td>0.856354</td>\n",
       "      <td>[70083, 25940, 149489, 256361, 231557, 236371,...</td>\n",
       "    </tr>\n",
       "  </tbody>\n",
       "</table>\n",
       "</div>"
      ],
      "text/plain": [
       "   Seed  Precision    Recall        F1                                            Indices\n",
       "3     3   0.864734  0.895000  0.879607  [71530, 198296, 77049, 48056, 11261, 215699, 2...\n",
       "9     9   0.892655  0.854054  0.872928  [187006, 196534, 173819, 267158, 91261, 70209,...\n",
       "1     1   0.864130  0.873626  0.868852  [128037, 267336, 73349, 117583, 21440, 229520,...\n",
       "4     4   0.860104  0.855670  0.857881  [120705, 129384, 115144, 94601, 107578, 79981,...\n",
       "8     8   0.880682  0.833333  0.856354  [70083, 25940, 149489, 256361, 231557, 236371,..."
      ]
     },
     "execution_count": 26,
     "metadata": {},
     "output_type": "execute_result"
    }
   ],
   "source": [
    "pred_df.sort_values(by=\"F1\", ascending=False).head()"
   ]
  },
  {
   "cell_type": "code",
   "execution_count": 27,
   "id": "8f010228-3f2a-4b04-880e-ff9e139adb27",
   "metadata": {},
   "outputs": [],
   "source": [
    "# Get the indices of the data that yielded the best results from the sampling\n",
    "best_idx = pred_df.sort_values(by=\"F1\", ascending=False).index[0]\n",
    "bootstrapped_idx = pred_df.iloc[best_idx][\"Indices\"]\n",
    "bootstrapped_seed = pred_df.iloc[best_idx][\"Seed\"]\n",
    "\n",
    "X_sample = all_x.values[bootstrapped_idx, :]\n",
    "y_sample = all_y.values[bootstrapped_idx]"
   ]
  },
  {
   "cell_type": "code",
   "execution_count": 28,
   "id": "3f95953c-3b0b-401c-89d3-e1b4a8f5607b",
   "metadata": {},
   "outputs": [
    {
     "name": "stdout",
     "output_type": "stream",
     "text": [
      "Fitting model with 0.1 of the data... done in 1 seconds.\n",
      "Fitting model with 0.2 of the data... done in 2 seconds.\n",
      "Fitting model with 0.3 of the data... done in 4 seconds.\n",
      "Fitting model with 0.4 of the data... done in 4 seconds.\n",
      "Fitting model with 0.5 of the data... done in 5 seconds.\n",
      "Fitting model with 0.6 of the data... done in 7 seconds.\n",
      "Fitting model with 0.7 of the data... done in 9 seconds.\n",
      "Fitting model with 0.8 of the data... done in 10 seconds.\n"
     ]
    }
   ],
   "source": [
    "training = []\n",
    "sizes = (0.1, 0.2, 0.3, 0.4, 0.5, 0.6, 0.7, 0.8)\n",
    "for s in sizes:\n",
    "    t = fit_with_size(X_sample, y_sample, bootstrapped_seed, s, verbose=True)\n",
    "    training.append(t)"
   ]
  },
  {
   "cell_type": "code",
   "execution_count": 29,
   "id": "ce8f5de6-7cf4-4feb-ae8c-09a4836fda8f",
   "metadata": {},
   "outputs": [],
   "source": [
    "metrics = []\n",
    "for t in training:\n",
    "    m = {}\n",
    "    model, X_test, y_test = t\n",
    "    precision, recall, f1 = get_metrics(model, X_test, y_test)\n",
    "    m[\"Precision\"] = precision\n",
    "    m[\"Recall\"] = recall\n",
    "    m[\"F1\"] = f1\n",
    "    metrics.append(m)\n",
    "df_metrics = pd.DataFrame(metrics)\n",
    "df_metrics[\"Size\"] = sizes"
   ]
  },
  {
   "cell_type": "code",
   "execution_count": 30,
   "id": "cb619e62-d81e-4498-a0cc-3329096148d4",
   "metadata": {},
   "outputs": [
    {
     "data": {
      "image/png": "[encoded data removed]",
      "text/plain": [
       "<Figure size 640x480 with 1 Axes>"
      ]
     },
     "metadata": {},
     "output_type": "display_data"
    }
   ],
   "source": [
    "ax = df_metrics.plot(x=\"Size\", y=\"Precision\")\n",
    "df_metrics.plot(x=\"Size\", y=\"Recall\", ax=ax)\n",
    "df_metrics.plot(x=\"Size\", y=\"F1\", ax=ax)\n",
    "_ = plt.legend()"
   ]
  },
  {
   "cell_type": "code",
   "execution_count": null,
   "id": "8fef41b0-dabf-42c7-8731-80b7780e8bcb",
   "metadata": {},
   "outputs": [],
   "source": []
  }
 ],
 "metadata": {
  "kernelspec": {
   "display_name": "Python 3 (ipykernel)",
   "language": "python",
   "name": "python3"
  },
  "language_info": {
   "codemirror_mode": {
    "name": "ipython",
    "version": 3
   },
   "file_extension": ".py",
   "mimetype": "text/x-python",
   "name": "python",
   "nbconvert_exporter": "python",
   "pygments_lexer": "ipython3",
   "version": "3.11.5"
  }
 },
 "nbformat": 4,
 "nbformat_minor": 5
}
