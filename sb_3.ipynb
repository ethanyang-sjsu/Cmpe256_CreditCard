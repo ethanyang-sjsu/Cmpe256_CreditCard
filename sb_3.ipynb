{
 "cells": [
  {
   "cell_type": "markdown",
   "id": "b3aaa228-a6d9-4edc-bb34-3a76690fc177",
   "metadata": {},
   "source": [
    "Third sandbox. Same dataset as the second one. This time, switched to `DecisionTreeClassifier`, which immediately improved the results. Once a bootstrap is done, this looks at the metrics generated across models using different `train_size`. That is, it calculates the metrics of bootstrapped predictions from a model trained on `train_size=0.1`, then the metrics of bootstrapped predictions from a model trained on `train_size=0.2`, and so on."
   ]
  },
  {
   "cell_type": "markdown",
   "id": "bf49a515-8224-4c19-94c6-a51baf2639eb",
   "metadata": {},
   "source": [
    "# Imports and setup"
   ]
  },
  {
   "cell_type": "code",
   "execution_count": 3,
   "id": "37799f8e-18db-407b-9527-ec21213b34a7",
   "metadata": {},
   "outputs": [],
   "source": [
    "import pandas as pd\n",
    "import numpy as np\n",
    "from time import time\n",
    "from sklearn.model_selection import train_test_split\n",
    "from sklearn.tree import DecisionTreeClassifier\n",
    "from sklearn.metrics import precision_score, recall_score, f1_score\n",
    "from tqdm import tqdm\n",
    "import matplotlib.pyplot as plt"
   ]
  },
  {
   "cell_type": "code",
   "execution_count": 4,
   "id": "83f9af9d-2e08-406a-99af-8254e047ee7f",
   "metadata": {},
   "outputs": [
    {
     "name": "stdout",
     "output_type": "stream",
     "text": [
      "Index(['Time', 'V1', 'V2', 'V3', 'V4', 'V5', 'V6', 'V7', 'V8', 'V9', 'V10',\n",
      "       'V11', 'V12', 'V13', 'V14', 'V15', 'V16', 'V17', 'V18', 'V19', 'V20',\n",
      "       'V21', 'V22', 'V23', 'V24', 'V25', 'V26', 'V27', 'V28', 'Amount',\n",
      "       'Class'],\n",
      "      dtype='object')\n",
      "Class\n",
      "0    284315\n",
      "1       492\n",
      "Name: count, dtype: int64\n"
     ]
    }
   ],
   "source": [
    "# https://www.kaggle.com/datasets/mlg-ulb/creditcardfraud\n",
    "df = pd.read_csv('creditcard.csv')\n",
    "print(df.columns)\n",
    "print(df['Class'].value_counts())"
   ]
  },
  {
   "cell_type": "code",
   "execution_count": 5,
   "id": "b547ed25-82d7-4fa1-83f6-983ef14f76c9",
   "metadata": {},
   "outputs": [],
   "source": [
    "X_all = df[df.columns[:-1]].values\n",
    "y_all = df['Class'].values"
   ]
  },
  {
   "cell_type": "markdown",
   "id": "41ba2659-b8c6-4e23-aab2-f2c7f5b1fee6",
   "metadata": {},
   "source": [
    "# Helper functions"
   ]
  },
  {
   "cell_type": "code",
   "execution_count": 7,
   "id": "20e66615-d2ad-4dc9-abd5-a6ea4147d787",
   "metadata": {},
   "outputs": [],
   "source": [
    "def fit_with_size(X_sample, y_sample, seed, train_size, verbose=False):\n",
    "    X_train, X_test, y_train, y_test = train_test_split(\n",
    "        X_sample, y_sample,\n",
    "        train_size=train_size,\n",
    "        stratify=y_sample,\n",
    "        random_state=seed  # make less random\n",
    "    )\n",
    "\n",
    "    if verbose:\n",
    "        print(\"Fitting model with\", train_size, \"of the data...\", end=' ')\n",
    "        start_time = time()\n",
    "    np.random.seed(seed)  # make less random\n",
    "    model = DecisionTreeClassifier().fit(X_train, y_train)\n",
    "    if verbose:\n",
    "        end_time = time()\n",
    "        print(\"done in\", round(end_time-start_time), \"seconds.\")\n",
    "\n",
    "    return model, X_test, y_test"
   ]
  },
  {
   "cell_type": "code",
   "execution_count": 8,
   "id": "d328bc22-68d8-4ba5-96fe-7b015066a362",
   "metadata": {},
   "outputs": [],
   "source": [
    "def get_metrics(model, X_test, y_test):\n",
    "    y_pred = model.predict(X_test)\n",
    "\n",
    "    precision = precision_score(y_test, y_pred)\n",
    "    recall = recall_score(y_test, y_pred)\n",
    "    f1 = f1_score(y_test, y_pred)\n",
    "    return precision, recall, f1"
   ]
  },
  {
   "cell_type": "code",
   "execution_count": 9,
   "id": "3575dcf6-162d-41c8-a17a-0f8ab45668f4",
   "metadata": {},
   "outputs": [],
   "source": [
    "def plot_metrics(df):\n",
    "    plt.subplot(1, 3, 1)\n",
    "    df[\"Precision\"].plot.barh()\n",
    "    plt.title(\"Precision\")\n",
    "    plt.subplot(1, 3, 2)\n",
    "    df[\"Recall\"].plot.barh()\n",
    "    plt.title(\"Recall\")\n",
    "    plt.subplot(1, 3, 3)\n",
    "    df[\"F1\"].plot.barh()\n",
    "    plt.title(\"F1\")"
   ]
  },
  {
   "cell_type": "markdown",
   "id": "4739298d-4822-44b6-83c3-c357b98bb4ca",
   "metadata": {},
   "source": [
    "# Bootstrapping a Decision Tree"
   ]
  },
  {
   "cell_type": "code",
   "execution_count": 11,
   "id": "72c3b0a4-bb80-403e-84a1-83c5796faa51",
   "metadata": {},
   "outputs": [],
   "source": [
    "# https://www.kdnuggets.com/2023/03/bootstrapping.html\n",
    "def bootstrap(X, y, n_samples, train_size):\n",
    "    results = []\n",
    "    for i in tqdm(range(n_samples)):\n",
    "        run = {}\n",
    "        np.random.seed(i)  # make less random\n",
    "        indices = np.random.choice(X.shape[0], size=X.shape[0], replace=True)\n",
    "        X_sample = X[indices, :]\n",
    "        y_sample = y[indices]\n",
    "\n",
    "        model, X_test, y_test = fit_with_size(X_sample, y_sample, i, train_size)\n",
    "        precision, recall, f1 = get_metrics(model, X_test, y_test)\n",
    "\n",
    "        run[\"Seed\"] = i\n",
    "        run[\"Precision\"] = precision\n",
    "        run[\"Recall\"] = recall\n",
    "        run[\"F1\"] = f1\n",
    "        run[\"Indices\"] = indices\n",
    "        run[\"Model\"] = model\n",
    "        results.append(run)\n",
    "    return pd.DataFrame(results)"
   ]
  },
  {
   "cell_type": "code",
   "execution_count": 12,
   "id": "58e3734d-edd3-43e5-9944-e91849108a0a",
   "metadata": {},
   "outputs": [
    {
     "name": "stderr",
     "output_type": "stream",
     "text": [
      "100%|██████████████████████████████████████████████████████████████████████████████████| 10/10 [03:35<00:00, 21.60s/it]\n"
     ]
    }
   ],
   "source": [
    "pred_df = bootstrap(X_all, y_all, 10, 0.6)"
   ]
  },
  {
   "cell_type": "code",
   "execution_count": 13,
   "id": "79e67fcf-1cc3-49c4-ab2b-56025b3be688",
   "metadata": {},
   "outputs": [
    {
     "data": {
      "image/png": "[encoded data removed]",
      "text/plain": [
       "<Figure size 640x480 with 3 Axes>"
      ]
     },
     "metadata": {},
     "output_type": "display_data"
    }
   ],
   "source": [
    "plot_metrics(pred_df)"
   ]
  },
  {
   "cell_type": "code",
   "execution_count": 31,
   "id": "1fc0f21d-b8e9-4762-ae26-01ad9cf2def5",
   "metadata": {},
   "outputs": [
    {
     "data": {
      "text/html": [
       "<div>\n",
       "<style scoped>\n",
       "    .dataframe tbody tr th:only-of-type {\n",
       "        vertical-align: middle;\n",
       "    }\n",
       "\n",
       "    .dataframe tbody tr th {\n",
       "        vertical-align: top;\n",
       "    }\n",
       "\n",
       "    .dataframe thead th {\n",
       "        text-align: right;\n",
       "    }\n",
       "</style>\n",
       "<table border=\"1\" class=\"dataframe\">\n",
       "  <thead>\n",
       "    <tr style=\"text-align: right;\">\n",
       "      <th></th>\n",
       "      <th>Seed</th>\n",
       "      <th>Precision</th>\n",
       "      <th>Recall</th>\n",
       "      <th>F1</th>\n",
       "      <th>Indices</th>\n",
       "      <th>Model</th>\n",
       "    </tr>\n",
       "  </thead>\n",
       "  <tbody>\n",
       "    <tr>\n",
       "      <th>3</th>\n",
       "      <td>3</td>\n",
       "      <td>0.864734</td>\n",
       "      <td>0.895000</td>\n",
       "      <td>0.879607</td>\n",
       "      <td>[71530, 198296, 77049, 48056, 11261, 215699, 2...</td>\n",
       "      <td>DecisionTreeClassifier()</td>\n",
       "    </tr>\n",
       "    <tr>\n",
       "      <th>9</th>\n",
       "      <td>9</td>\n",
       "      <td>0.892655</td>\n",
       "      <td>0.854054</td>\n",
       "      <td>0.872928</td>\n",
       "      <td>[187006, 196534, 173819, 267158, 91261, 70209,...</td>\n",
       "      <td>DecisionTreeClassifier()</td>\n",
       "    </tr>\n",
       "    <tr>\n",
       "      <th>1</th>\n",
       "      <td>1</td>\n",
       "      <td>0.864130</td>\n",
       "      <td>0.873626</td>\n",
       "      <td>0.868852</td>\n",
       "      <td>[128037, 267336, 73349, 117583, 21440, 229520,...</td>\n",
       "      <td>DecisionTreeClassifier()</td>\n",
       "    </tr>\n",
       "    <tr>\n",
       "      <th>4</th>\n",
       "      <td>4</td>\n",
       "      <td>0.860104</td>\n",
       "      <td>0.855670</td>\n",
       "      <td>0.857881</td>\n",
       "      <td>[120705, 129384, 115144, 94601, 107578, 79981,...</td>\n",
       "      <td>DecisionTreeClassifier()</td>\n",
       "    </tr>\n",
       "    <tr>\n",
       "      <th>8</th>\n",
       "      <td>8</td>\n",
       "      <td>0.880682</td>\n",
       "      <td>0.833333</td>\n",
       "      <td>0.856354</td>\n",
       "      <td>[70083, 25940, 149489, 256361, 231557, 236371,...</td>\n",
       "      <td>DecisionTreeClassifier()</td>\n",
       "    </tr>\n",
       "  </tbody>\n",
       "</table>\n",
       "</div>"
      ],
      "text/plain": [
       "   Seed  Precision    Recall        F1  \\\n",
       "3     3   0.864734  0.895000  0.879607   \n",
       "9     9   0.892655  0.854054  0.872928   \n",
       "1     1   0.864130  0.873626  0.868852   \n",
       "4     4   0.860104  0.855670  0.857881   \n",
       "8     8   0.880682  0.833333  0.856354   \n",
       "\n",
       "                                             Indices                     Model  \n",
       "3  [71530, 198296, 77049, 48056, 11261, 215699, 2...  DecisionTreeClassifier()  \n",
       "9  [187006, 196534, 173819, 267158, 91261, 70209,...  DecisionTreeClassifier()  \n",
       "1  [128037, 267336, 73349, 117583, 21440, 229520,...  DecisionTreeClassifier()  \n",
       "4  [120705, 129384, 115144, 94601, 107578, 79981,...  DecisionTreeClassifier()  \n",
       "8  [70083, 25940, 149489, 256361, 231557, 236371,...  DecisionTreeClassifier()  "
      ]
     },
     "execution_count": 31,
     "metadata": {},
     "output_type": "execute_result"
    }
   ],
   "source": [
    "pred_df.sort_values(by=\"F1\", ascending=False).head()"
   ]
  },
  {
   "cell_type": "markdown",
   "id": "b22d129e-713b-41fb-9cb7-1356281f6a4a",
   "metadata": {},
   "source": [
    "# Majority voting"
   ]
  },
  {
   "cell_type": "code",
   "execution_count": 15,
   "id": "7c0c44dd-8f48-4c7c-ac55-fdba64b4c96c",
   "metadata": {},
   "outputs": [],
   "source": [
    "def weighted_predict(X, y, df, weight_by=None):\n",
    "    n = y.shape\n",
    "    y_weighted = np.zeros(n)\n",
    "    all_predictions = []\n",
    "    all_metrics = []\n",
    "    \n",
    "    models = df['Model'].values\n",
    "    if weight_by is None:\n",
    "        weights = [1 for _ in range(n)]\n",
    "    else:\n",
    "        weights = df[weight_by].values\n",
    "\n",
    "    print(\"Making predictions...\")\n",
    "    for model, weight in tqdm(zip(models, weights)):\n",
    "        y_raw = model.predict(X)\n",
    "        all_predictions.append(y_raw)  # save this off for later comparison\n",
    "        y_pred = y_raw * 2 - 1  # transform to range [-1, 1]\n",
    "        y_pred = y_pred * weight\n",
    "        y_weighted += y_pred\n",
    "    # predictions are now in a range such that:\n",
    "    # y >= 0 means a positive classification\n",
    "    # y < 0 means a negative classification\n",
    "    y_weighted = y_weighted >= 0\n",
    "    all_predictions.append(y_weighted)\n",
    "\n",
    "    print(\"Getting metrics...\")\n",
    "    for prediction in tqdm(all_predictions):\n",
    "        d = {}\n",
    "        d[\"Precision\"] = precision_score(y, prediction)\n",
    "        d[\"Recall\"] = recall_score(y, prediction)\n",
    "        d[\"F1\"] = f1_score(y, prediction)\n",
    "        all_metrics.append(d)\n",
    "\n",
    "    print(\"Done.\")\n",
    "    return pd.DataFrame(all_metrics)"
   ]
  },
  {
   "cell_type": "code",
   "execution_count": 16,
   "id": "658abaa3-6fa6-4681-8297-75c948204450",
   "metadata": {},
   "outputs": [
    {
     "name": "stdout",
     "output_type": "stream",
     "text": [
      "Making predictions...\n"
     ]
    },
    {
     "name": "stderr",
     "output_type": "stream",
     "text": [
      "10it [00:00, 16.96it/s]\n"
     ]
    },
    {
     "name": "stdout",
     "output_type": "stream",
     "text": [
      "Getting metrics...\n"
     ]
    },
    {
     "name": "stderr",
     "output_type": "stream",
     "text": [
      "100%|██████████████████████████████████████████████████████████████████████████████████| 11/11 [00:04<00:00,  2.38it/s]"
     ]
    },
    {
     "name": "stdout",
     "output_type": "stream",
     "text": [
      "Done.\n"
     ]
    },
    {
     "name": "stderr",
     "output_type": "stream",
     "text": [
      "\n"
     ]
    }
   ],
   "source": [
    "weight_df = weighted_predict(X_all, y_all, pred_df, 'F1')"
   ]
  },
  {
   "cell_type": "code",
   "execution_count": 17,
   "id": "3340a028-4d33-4894-b5af-5685b307601a",
   "metadata": {},
   "outputs": [
    {
     "data": {
      "image/png": "[encoded data removed]",
      "text/plain": [
       "<Figure size 640x480 with 3 Axes>"
      ]
     },
     "metadata": {},
     "output_type": "display_data"
    }
   ],
   "source": [
    "plot_metrics(weight_df)"
   ]
  },
  {
   "cell_type": "code",
   "execution_count": 18,
   "id": "4d206a9f-9847-4efa-9eab-97dc4702e018",
   "metadata": {},
   "outputs": [
    {
     "data": {
      "text/html": [
       "<div>\n",
       "<style scoped>\n",
       "    .dataframe tbody tr th:only-of-type {\n",
       "        vertical-align: middle;\n",
       "    }\n",
       "\n",
       "    .dataframe tbody tr th {\n",
       "        vertical-align: top;\n",
       "    }\n",
       "\n",
       "    .dataframe thead th {\n",
       "        text-align: right;\n",
       "    }\n",
       "</style>\n",
       "<table border=\"1\" class=\"dataframe\">\n",
       "  <thead>\n",
       "    <tr style=\"text-align: right;\">\n",
       "      <th></th>\n",
       "      <th>Precision</th>\n",
       "      <th>Recall</th>\n",
       "      <th>F1</th>\n",
       "    </tr>\n",
       "  </thead>\n",
       "  <tbody>\n",
       "    <tr>\n",
       "      <th>10</th>\n",
       "      <td>0.980263</td>\n",
       "      <td>0.908537</td>\n",
       "      <td>0.943038</td>\n",
       "    </tr>\n",
       "    <tr>\n",
       "      <th>3</th>\n",
       "      <td>0.852427</td>\n",
       "      <td>0.892276</td>\n",
       "      <td>0.871897</td>\n",
       "    </tr>\n",
       "    <tr>\n",
       "      <th>0</th>\n",
       "      <td>0.883721</td>\n",
       "      <td>0.849593</td>\n",
       "      <td>0.866321</td>\n",
       "    </tr>\n",
       "    <tr>\n",
       "      <th>9</th>\n",
       "      <td>0.859719</td>\n",
       "      <td>0.871951</td>\n",
       "      <td>0.865792</td>\n",
       "    </tr>\n",
       "    <tr>\n",
       "      <th>4</th>\n",
       "      <td>0.841699</td>\n",
       "      <td>0.886179</td>\n",
       "      <td>0.863366</td>\n",
       "    </tr>\n",
       "  </tbody>\n",
       "</table>\n",
       "</div>"
      ],
      "text/plain": [
       "    Precision    Recall        F1\n",
       "10   0.980263  0.908537  0.943038\n",
       "3    0.852427  0.892276  0.871897\n",
       "0    0.883721  0.849593  0.866321\n",
       "9    0.859719  0.871951  0.865792\n",
       "4    0.841699  0.886179  0.863366"
      ]
     },
     "execution_count": 18,
     "metadata": {},
     "output_type": "execute_result"
    }
   ],
   "source": [
    "weight_df.sort_values(by=\"F1\", ascending=False).head()"
   ]
  },
  {
   "cell_type": "markdown",
   "id": "33d75fc9-fb81-4666-998d-0e10a026759e",
   "metadata": {},
   "source": [
    "# Experiments with `train_size`"
   ]
  },
  {
   "cell_type": "code",
   "execution_count": 20,
   "id": "8fef41b0-dabf-42c7-8731-80b7780e8bcb",
   "metadata": {},
   "outputs": [
    {
     "name": "stdout",
     "output_type": "stream",
     "text": [
      "Now working on size 0.1\n"
     ]
    },
    {
     "name": "stderr",
     "output_type": "stream",
     "text": [
      "100%|████████████████████████████████████████████████████████████████████████████████████| 5/5 [00:13<00:00,  2.76s/it]\n"
     ]
    },
    {
     "name": "stdout",
     "output_type": "stream",
     "text": [
      "Making predictions...\n"
     ]
    },
    {
     "name": "stderr",
     "output_type": "stream",
     "text": [
      "5it [00:00, 17.68it/s]\n"
     ]
    },
    {
     "name": "stdout",
     "output_type": "stream",
     "text": [
      "Getting metrics...\n"
     ]
    },
    {
     "name": "stderr",
     "output_type": "stream",
     "text": [
      "100%|████████████████████████████████████████████████████████████████████████████████████| 6/6 [00:02<00:00,  2.28it/s]\n"
     ]
    },
    {
     "name": "stdout",
     "output_type": "stream",
     "text": [
      "Done.\n",
      "\n",
      "Now working on size 0.2\n"
     ]
    },
    {
     "name": "stderr",
     "output_type": "stream",
     "text": [
      "100%|████████████████████████████████████████████████████████████████████████████████████| 5/5 [00:27<00:00,  5.53s/it]\n"
     ]
    },
    {
     "name": "stdout",
     "output_type": "stream",
     "text": [
      "Making predictions...\n"
     ]
    },
    {
     "name": "stderr",
     "output_type": "stream",
     "text": [
      "5it [00:00, 18.56it/s]\n"
     ]
    },
    {
     "name": "stdout",
     "output_type": "stream",
     "text": [
      "Getting metrics...\n"
     ]
    },
    {
     "name": "stderr",
     "output_type": "stream",
     "text": [
      "100%|████████████████████████████████████████████████████████████████████████████████████| 6/6 [00:02<00:00,  2.63it/s]\n"
     ]
    },
    {
     "name": "stdout",
     "output_type": "stream",
     "text": [
      "Done.\n",
      "\n",
      "Now working on size 0.3\n"
     ]
    },
    {
     "name": "stderr",
     "output_type": "stream",
     "text": [
      "100%|████████████████████████████████████████████████████████████████████████████████████| 5/5 [00:49<00:00,  9.95s/it]\n"
     ]
    },
    {
     "name": "stdout",
     "output_type": "stream",
     "text": [
      "Making predictions...\n"
     ]
    },
    {
     "name": "stderr",
     "output_type": "stream",
     "text": [
      "5it [00:00, 17.91it/s]\n"
     ]
    },
    {
     "name": "stdout",
     "output_type": "stream",
     "text": [
      "Getting metrics...\n"
     ]
    },
    {
     "name": "stderr",
     "output_type": "stream",
     "text": [
      "100%|████████████████████████████████████████████████████████████████████████████████████| 6/6 [00:02<00:00,  2.58it/s]\n"
     ]
    },
    {
     "name": "stdout",
     "output_type": "stream",
     "text": [
      "Done.\n",
      "\n",
      "Now working on size 0.4\n"
     ]
    },
    {
     "name": "stderr",
     "output_type": "stream",
     "text": [
      "100%|████████████████████████████████████████████████████████████████████████████████████| 5/5 [01:02<00:00, 12.42s/it]\n"
     ]
    },
    {
     "name": "stdout",
     "output_type": "stream",
     "text": [
      "Making predictions...\n"
     ]
    },
    {
     "name": "stderr",
     "output_type": "stream",
     "text": [
      "5it [00:00, 16.51it/s]\n"
     ]
    },
    {
     "name": "stdout",
     "output_type": "stream",
     "text": [
      "Getting metrics...\n"
     ]
    },
    {
     "name": "stderr",
     "output_type": "stream",
     "text": [
      "100%|████████████████████████████████████████████████████████████████████████████████████| 6/6 [00:02<00:00,  2.84it/s]\n"
     ]
    },
    {
     "name": "stdout",
     "output_type": "stream",
     "text": [
      "Done.\n",
      "\n",
      "Now working on size 0.5\n"
     ]
    },
    {
     "name": "stderr",
     "output_type": "stream",
     "text": [
      "100%|████████████████████████████████████████████████████████████████████████████████████| 5/5 [01:34<00:00, 18.81s/it]\n"
     ]
    },
    {
     "name": "stdout",
     "output_type": "stream",
     "text": [
      "Making predictions...\n"
     ]
    },
    {
     "name": "stderr",
     "output_type": "stream",
     "text": [
      "5it [00:00, 15.90it/s]\n"
     ]
    },
    {
     "name": "stdout",
     "output_type": "stream",
     "text": [
      "Getting metrics...\n"
     ]
    },
    {
     "name": "stderr",
     "output_type": "stream",
     "text": [
      "100%|████████████████████████████████████████████████████████████████████████████████████| 6/6 [00:02<00:00,  2.36it/s]\n"
     ]
    },
    {
     "name": "stdout",
     "output_type": "stream",
     "text": [
      "Done.\n",
      "\n",
      "Now working on size 0.6\n"
     ]
    },
    {
     "name": "stderr",
     "output_type": "stream",
     "text": [
      "100%|████████████████████████████████████████████████████████████████████████████████████| 5/5 [01:55<00:00, 23.02s/it]\n"
     ]
    },
    {
     "name": "stdout",
     "output_type": "stream",
     "text": [
      "Making predictions...\n"
     ]
    },
    {
     "name": "stderr",
     "output_type": "stream",
     "text": [
      "5it [00:00, 17.76it/s]\n"
     ]
    },
    {
     "name": "stdout",
     "output_type": "stream",
     "text": [
      "Getting metrics...\n"
     ]
    },
    {
     "name": "stderr",
     "output_type": "stream",
     "text": [
      "100%|████████████████████████████████████████████████████████████████████████████████████| 6/6 [00:02<00:00,  2.49it/s]\n"
     ]
    },
    {
     "name": "stdout",
     "output_type": "stream",
     "text": [
      "Done.\n",
      "\n",
      "Now working on size 0.7\n"
     ]
    },
    {
     "name": "stderr",
     "output_type": "stream",
     "text": [
      "100%|████████████████████████████████████████████████████████████████████████████████████| 5/5 [01:59<00:00, 23.97s/it]\n"
     ]
    },
    {
     "name": "stdout",
     "output_type": "stream",
     "text": [
      "Making predictions...\n"
     ]
    },
    {
     "name": "stderr",
     "output_type": "stream",
     "text": [
      "5it [00:00, 19.20it/s]\n"
     ]
    },
    {
     "name": "stdout",
     "output_type": "stream",
     "text": [
      "Getting metrics...\n"
     ]
    },
    {
     "name": "stderr",
     "output_type": "stream",
     "text": [
      "100%|████████████████████████████████████████████████████████████████████████████████████| 6/6 [00:02<00:00,  2.47it/s]\n"
     ]
    },
    {
     "name": "stdout",
     "output_type": "stream",
     "text": [
      "Done.\n",
      "\n",
      "Now working on size 0.8\n"
     ]
    },
    {
     "name": "stderr",
     "output_type": "stream",
     "text": [
      "100%|████████████████████████████████████████████████████████████████████████████████████| 5/5 [02:16<00:00, 27.34s/it]\n"
     ]
    },
    {
     "name": "stdout",
     "output_type": "stream",
     "text": [
      "Making predictions...\n"
     ]
    },
    {
     "name": "stderr",
     "output_type": "stream",
     "text": [
      "5it [00:00, 17.99it/s]\n"
     ]
    },
    {
     "name": "stdout",
     "output_type": "stream",
     "text": [
      "Getting metrics...\n"
     ]
    },
    {
     "name": "stderr",
     "output_type": "stream",
     "text": [
      "100%|████████████████████████████████████████████████████████████████████████████████████| 6/6 [00:02<00:00,  2.40it/s]"
     ]
    },
    {
     "name": "stdout",
     "output_type": "stream",
     "text": [
      "Done.\n",
      "\n",
      "Done.\n"
     ]
    },
    {
     "name": "stderr",
     "output_type": "stream",
     "text": [
      "\n"
     ]
    }
   ],
   "source": [
    "sizes = (0.1, 0.2, 0.3, 0.4, 0.5, 0.6, 0.7, 0.8)\n",
    "precision, recall, f1 = [], [], []\n",
    "for s in sizes:\n",
    "    print(\"Now working on size\", s)\n",
    "    size_pred_df = bootstrap(X_all, y_all, 5, s)\n",
    "    size_weight_df = weighted_predict(X_all, y_all, size_pred_df, 'F1')\n",
    "    p, r, f = size_weight_df.iloc[-1].values\n",
    "    precision.append(p)\n",
    "    recall.append(r)\n",
    "    f1.append(f)\n",
    "    print()\n",
    "print(\"Done.\")"
   ]
  },
  {
   "cell_type": "code",
   "execution_count": 21,
   "id": "7ca9dab2-1e26-4efd-a407-af6cbfa75001",
   "metadata": {},
   "outputs": [
    {
     "data": {
      "image/png": "[encoded data removed]",
      "text/plain": [
       "<Figure size 640x480 with 1 Axes>"
      ]
     },
     "metadata": {},
     "output_type": "display_data"
    }
   ],
   "source": [
    "ax = plt.plot(sizes, precision, label=\"Precision\")\n",
    "plt.plot(sizes, recall, label=\"Recall\")\n",
    "plt.plot(sizes, f1, label=\"F1\")\n",
    "_ = plt.legend()"
   ]
  },
  {
   "cell_type": "code",
   "execution_count": 30,
   "id": "21b66906-e999-4c27-9d9c-a61cd58a8ee6",
   "metadata": {},
   "outputs": [
    {
     "name": "stdout",
     "output_type": "stream",
     "text": [
      "For size 0.1, precision=0.9287531806615776 recall=0.741869918699187 f1=0.8248587570621468\n",
      "For size 0.2, precision=0.9248826291079812 recall=0.8008130081300813 f1=0.8583877995642701\n",
      "For size 0.3, precision=0.9505882352941176 recall=0.8211382113821138 f1=0.88113413304253\n",
      "For size 0.4, precision=0.9504504504504504 recall=0.8577235772357723 f1=0.9017094017094017\n",
      "For size 0.5, precision=0.9817351598173516 recall=0.8739837398373984 f1=0.9247311827956989\n",
      "For size 0.6, precision=0.9776785714285714 recall=0.8902439024390244 f1=0.9319148936170213\n",
      "For size 0.7, precision=0.9801762114537445 recall=0.9044715447154471 f1=0.9408033826638478\n",
      "For size 0.8, precision=0.9805194805194806 recall=0.9207317073170732 f1=0.949685534591195\n"
     ]
    }
   ],
   "source": [
    "for s, p, r, f in zip(sizes, precision, recall, f1):\n",
    "    print(f\"For size {s}, precision={p} recall={r} f1={f}\")"
   ]
  }
 ],
 "metadata": {
  "kernelspec": {
   "display_name": "Python 3 (ipykernel)",
   "language": "python",
   "name": "python3"
  },
  "language_info": {
   "codemirror_mode": {
    "name": "ipython",
    "version": 3
   },
   "file_extension": ".py",
   "mimetype": "text/x-python",
   "name": "python",
   "nbconvert_exporter": "python",
   "pygments_lexer": "ipython3",
   "version": "3.11.5"
  }
 },
 "nbformat": 4,
 "nbformat_minor": 5
}
